{
 "cells": [
  {
   "cell_type": "markdown",
   "id": "aeab7d2d-e63a-4abc-831c-e849bbcdfc4b",
   "metadata": {},
   "source": [
    "# Numpy Basics"
   ]
  },
  {
   "cell_type": "code",
   "execution_count": 2,
   "id": "eb8859c5-4b98-4455-9f2d-777b2a51f2bd",
   "metadata": {},
   "outputs": [],
   "source": [
    "import numpy as np"
   ]
  },
  {
   "cell_type": "code",
   "execution_count": 4,
   "id": "2264c025-f060-42f9-9ecd-bf9a753df2bc",
   "metadata": {},
   "outputs": [
    {
     "data": {
      "text/plain": [
       "array([1, 2, 3])"
      ]
     },
     "execution_count": 4,
     "metadata": {},
     "output_type": "execute_result"
    }
   ],
   "source": [
    "a = np.array([1,2,3])\n",
    "a\n"
   ]
  },
  {
   "cell_type": "code",
   "execution_count": 6,
   "id": "99d8de78-cfa8-4988-a528-5fcea869feca",
   "metadata": {},
   "outputs": [
    {
     "name": "stdout",
     "output_type": "stream",
     "text": [
      "[1 2 3]\n"
     ]
    }
   ],
   "source": [
    "print(a)\n"
   ]
  },
  {
   "cell_type": "code",
   "execution_count": 8,
   "id": "a29fd2b2-f0de-4a14-b2aa-0ff8faf03ad4",
   "metadata": {},
   "outputs": [
    {
     "name": "stdout",
     "output_type": "stream",
     "text": [
      "[[1 2 3]\n",
      " [4 5 6]\n",
      " [7 8 9]]\n"
     ]
    }
   ],
   "source": [
    "#2-D Array\n",
    "b = np.array ([[1,2,3],[4,5,6],[7,8,9]])\n",
    "print(b)\n"
   ]
  },
  {
   "cell_type": "code",
   "execution_count": 59,
   "id": "12c0a181-1786-43fd-a326-afda53dffeb0",
   "metadata": {},
   "outputs": [
    {
     "name": "stdout",
     "output_type": "stream",
     "text": [
      "[[[1 2]\n",
      "  [3 4]]\n",
      "\n",
      " [[5 6]\n",
      "  [7 8]]]\n"
     ]
    }
   ],
   "source": [
    "#3-D Array\n",
    "c = np.array ([[[1,2],[3,4]],[[5,6],[7,8]]])\n",
    "print(c)\n"
   ]
  },
  {
   "cell_type": "code",
   "execution_count": 10,
   "id": "cf1d54ae-21a7-412a-a9d6-f33ef5862f84",
   "metadata": {},
   "outputs": [
    {
     "data": {
      "text/plain": [
       "1"
      ]
     },
     "execution_count": 10,
     "metadata": {},
     "output_type": "execute_result"
    }
   ],
   "source": [
    "# Get Dimension\n",
    "a.ndim"
   ]
  },
  {
   "cell_type": "code",
   "execution_count": 12,
   "id": "762d3e40-0194-4829-9897-ca75472e6dc8",
   "metadata": {},
   "outputs": [
    {
     "data": {
      "text/plain": [
       "2"
      ]
     },
     "execution_count": 12,
     "metadata": {},
     "output_type": "execute_result"
    }
   ],
   "source": [
    "b.ndim"
   ]
  },
  {
   "cell_type": "code",
   "execution_count": 61,
   "id": "03eaa5f9-60c6-42be-a262-2cfeef8bbb91",
   "metadata": {},
   "outputs": [
    {
     "data": {
      "text/plain": [
       "3"
      ]
     },
     "execution_count": 61,
     "metadata": {},
     "output_type": "execute_result"
    }
   ],
   "source": [
    "c.ndim"
   ]
  },
  {
   "cell_type": "code",
   "execution_count": 18,
   "id": "197941bf-0427-4f4a-861c-7af52d2c6c29",
   "metadata": {},
   "outputs": [
    {
     "data": {
      "text/plain": [
       "(3, 3)"
      ]
     },
     "execution_count": 18,
     "metadata": {},
     "output_type": "execute_result"
    }
   ],
   "source": [
    "# Get Shape\n",
    "\n",
    "b.shape"
   ]
  },
  {
   "cell_type": "code",
   "execution_count": 20,
   "id": "eac9548d-994b-4fff-a531-0599abc85972",
   "metadata": {},
   "outputs": [
    {
     "data": {
      "text/plain": [
       "(3,)"
      ]
     },
     "execution_count": 20,
     "metadata": {},
     "output_type": "execute_result"
    }
   ],
   "source": [
    "a.shape"
   ]
  },
  {
   "cell_type": "code",
   "execution_count": 24,
   "id": "3fc262ea-8841-4c3e-8d86-1a00c2410778",
   "metadata": {},
   "outputs": [
    {
     "name": "stdout",
     "output_type": "stream",
     "text": [
      "(3, 3)\n"
     ]
    }
   ],
   "source": [
    "print(b.shape)"
   ]
  },
  {
   "cell_type": "code",
   "execution_count": 26,
   "id": "3cd2337e-4eb6-44d9-a4c8-3d1287d7baa9",
   "metadata": {},
   "outputs": [
    {
     "data": {
      "text/plain": [
       "dtype('int32')"
      ]
     },
     "execution_count": 26,
     "metadata": {},
     "output_type": "execute_result"
    }
   ],
   "source": [
    "# Get Type\n",
    "a.dtype\n"
   ]
  },
  {
   "cell_type": "code",
   "execution_count": 28,
   "id": "71cb9f4f-01de-4596-bec2-76fabde1cebe",
   "metadata": {},
   "outputs": [
    {
     "data": {
      "text/plain": [
       "dtype('int32')"
      ]
     },
     "execution_count": 28,
     "metadata": {},
     "output_type": "execute_result"
    }
   ],
   "source": [
    "b.dtype"
   ]
  },
  {
   "cell_type": "code",
   "execution_count": 65,
   "id": "27fa9df4-e267-41cb-981d-87f6919f1d4f",
   "metadata": {},
   "outputs": [
    {
     "data": {
      "text/plain": [
       "array([ True,  True,  True])"
      ]
     },
     "execution_count": 65,
     "metadata": {},
     "output_type": "execute_result"
    }
   ],
   "source": [
    "np.array([1,2,3],dtype=bool)"
   ]
  },
  {
   "cell_type": "code",
   "execution_count": 67,
   "id": "eded2d2f-b707-4087-bb72-c629343c47ff",
   "metadata": {},
   "outputs": [
    {
     "data": {
      "text/plain": [
       "array([1.+0.j, 2.+0.j, 3.+0.j])"
      ]
     },
     "execution_count": 67,
     "metadata": {},
     "output_type": "execute_result"
    }
   ],
   "source": [
    "np.array([1,2,3],dtype=complex)"
   ]
  },
  {
   "cell_type": "code",
   "execution_count": 69,
   "id": "23f109f2-e842-48a0-8924-711d190464ce",
   "metadata": {},
   "outputs": [
    {
     "data": {
      "text/plain": [
       "array([1., 2., 3.])"
      ]
     },
     "execution_count": 69,
     "metadata": {},
     "output_type": "execute_result"
    }
   ],
   "source": [
    "np.array([1,2,3],dtype=float)"
   ]
  },
  {
   "cell_type": "code",
   "execution_count": 34,
   "id": "964339d8-d8fc-42bf-8014-6b7dd7150be6",
   "metadata": {},
   "outputs": [
    {
     "data": {
      "text/plain": [
       "4"
      ]
     },
     "execution_count": 34,
     "metadata": {},
     "output_type": "execute_result"
    }
   ],
   "source": [
    "# Get size\n",
    "a.itemsize"
   ]
  },
  {
   "cell_type": "code",
   "execution_count": 32,
   "id": "454f9ae7-1e69-42a1-b132-9f4a98083f1c",
   "metadata": {},
   "outputs": [
    {
     "data": {
      "text/plain": [
       "4"
      ]
     },
     "execution_count": 32,
     "metadata": {},
     "output_type": "execute_result"
    }
   ],
   "source": [
    "b.itemsize"
   ]
  },
  {
   "cell_type": "code",
   "execution_count": 51,
   "id": "9a4b1f66-203e-481d-a1bd-f4f052ee7374",
   "metadata": {},
   "outputs": [
    {
     "name": "stdout",
     "output_type": "stream",
     "text": [
      "a= 56\n",
      "b = 36\n"
     ]
    }
   ],
   "source": [
    "# Get total size\n",
    "a.nbytes\n",
    "print (\"a=\", a.nbytes)\n",
    "print(\"b =\", b.nbytes)\n"
   ]
  },
  {
   "cell_type": "code",
   "execution_count": 55,
   "id": "ae45d1af-dfc9-4969-bd79-0f67d8fda12e",
   "metadata": {},
   "outputs": [
    {
     "name": "stdout",
     "output_type": "stream",
     "text": [
      "<class 'numpy.ndarray'>\n"
     ]
    }
   ],
   "source": [
    "print(type(a))"
   ]
  },
  {
   "cell_type": "markdown",
   "id": "80600f07-6825-41a6-a81b-cca4eb41fa86",
   "metadata": {},
   "source": [
    "# Accesing/Changing Specific elements, rows, columns, etc."
   ]
  },
  {
   "cell_type": "code",
   "execution_count": 49,
   "id": "8f7b4690-4e36-430c-a3ad-d1b60cf02e85",
   "metadata": {},
   "outputs": [
    {
     "name": "stdout",
     "output_type": "stream",
     "text": [
      "[[ 1  2  3  4  5  6  7]\n",
      " [ 8  9 10 11 12 13 14]]\n"
     ]
    }
   ],
   "source": [
    "a = np.array ([[1,2,3,4,5,6,7],[8,9,10,11,12,13,14]])\n",
    "print (a)"
   ]
  },
  {
   "cell_type": "markdown",
   "id": "be908b42-7459-4b93-94e6-ed9da145ec86",
   "metadata": {},
   "source": [
    "# Functions"
   ]
  },
  {
   "cell_type": "code",
   "execution_count": 75,
   "id": "53ef9aaf-4e11-4875-a8e0-cba6792949b6",
   "metadata": {},
   "outputs": [
    {
     "name": "stdout",
     "output_type": "stream",
     "text": [
      "[1 3 5 7 9]\n"
     ]
    }
   ],
   "source": [
    "# np.arange\n",
    "a = np.arange(1,11,2)\n",
    "print (a)"
   ]
  },
  {
   "cell_type": "code",
   "execution_count": 77,
   "id": "c2c86de3-e09b-4fc2-9e2c-8d81c26f76d2",
   "metadata": {},
   "outputs": [
    {
     "name": "stdout",
     "output_type": "stream",
     "text": [
      "[ 1  2  3  4  5  6  7  8  9 10 11 12]\n"
     ]
    }
   ],
   "source": [
    "a = np.arange(1,13)\n",
    "print (a)\n"
   ]
  },
  {
   "cell_type": "code",
   "execution_count": 85,
   "id": "7dd74800-7b69-47a2-a76b-5832c9c9e20c",
   "metadata": {},
   "outputs": [
    {
     "name": "stdout",
     "output_type": "stream",
     "text": [
      "[[ 0  1  2  3]\n",
      " [ 4  5  6  7]\n",
      " [ 8  9 10 11]\n",
      " [12 13 14 15]]\n"
     ]
    }
   ],
   "source": [
    "# np.reshape(no. of rows, no. of columns)\n",
    "b = np.arange (0,16).reshape(4,4)\n",
    "print (b)"
   ]
  },
  {
   "cell_type": "code",
   "execution_count": 83,
   "id": "61c1382b-d5a9-4f59-8aa1-b334348c7b44",
   "metadata": {},
   "outputs": [
    {
     "data": {
      "text/plain": [
       "array([[ 0,  1,  2,  3,  4,  5,  6,  7],\n",
       "       [ 8,  9, 10, 11, 12, 13, 14, 15]])"
      ]
     },
     "execution_count": 83,
     "metadata": {},
     "output_type": "execute_result"
    }
   ],
   "source": [
    "b.reshape(2,8)"
   ]
  },
  {
   "cell_type": "markdown",
   "id": "efd5a6e3-b0ca-49ca-8428-f8e9d5dc4c01",
   "metadata": {},
   "source": [
    "## np.ones and np.zeros"
   ]
  },
  {
   "cell_type": "code",
   "execution_count": 92,
   "id": "1b702ae0-8e10-4cc8-a1bb-fdad4ac97d53",
   "metadata": {},
   "outputs": [
    {
     "name": "stdout",
     "output_type": "stream",
     "text": [
      "[[1. 1.]\n",
      " [1. 1.]\n",
      " [1. 1.]]\n"
     ]
    }
   ],
   "source": [
    "a = np.ones((3,2))\n",
    "print (a)"
   ]
  },
  {
   "cell_type": "code",
   "execution_count": 96,
   "id": "9fe024a1-84f3-4863-8bf9-7ad74e9dec17",
   "metadata": {},
   "outputs": [
    {
     "name": "stdout",
     "output_type": "stream",
     "text": [
      "[[0. 0.]\n",
      " [0. 0.]\n",
      " [0. 0.]]\n"
     ]
    }
   ],
   "source": [
    "b = np.zeros((3,2))\n",
    "print (b)"
   ]
  },
  {
   "cell_type": "markdown",
   "id": "8078e6c8-56ca-48da-becb-b71e75628105",
   "metadata": {},
   "source": [
    "## np.random"
   ]
  },
  {
   "cell_type": "code",
   "execution_count": 101,
   "id": "9f769da1-30b1-4dde-b74c-361ce2730df3",
   "metadata": {},
   "outputs": [],
   "source": [
    "import random"
   ]
  },
  {
   "cell_type": "code",
   "execution_count": 117,
   "id": "bdb13fbf-cb51-4799-971a-02a0a2996eb0",
   "metadata": {},
   "outputs": [
    {
     "name": "stdout",
     "output_type": "stream",
     "text": [
      "[[69  8]\n",
      " [89 39]\n",
      " [14 69]]\n"
     ]
    }
   ],
   "source": [
    "c = np.random.randint(0,100,size=(3,2))\n",
    "print (c)"
   ]
  },
  {
   "cell_type": "code",
   "execution_count": 135,
   "id": "a0f291c4-8e17-4493-84c7-fa2a935d74d9",
   "metadata": {},
   "outputs": [
    {
     "name": "stdout",
     "output_type": "stream",
     "text": [
      "c= [[0.16714503 0.91561503]\n",
      " [0.95546547 0.6226591 ]\n",
      " [0.38989139 0.5589128 ]]\n"
     ]
    },
    {
     "ename": "TypeError",
     "evalue": "rand() got an unexpected keyword argument 'dtype'",
     "output_type": "error",
     "traceback": [
      "\u001b[1;31m---------------------------------------------------------------------------\u001b[0m",
      "\u001b[1;31mTypeError\u001b[0m                                 Traceback (most recent call last)",
      "Cell \u001b[1;32mIn[135], line 4\u001b[0m\n\u001b[0;32m      2\u001b[0m \u001b[38;5;28mprint\u001b[39m (\u001b[38;5;124m'\u001b[39m\u001b[38;5;124mc=\u001b[39m\u001b[38;5;124m'\u001b[39m,c)\n\u001b[0;32m      3\u001b[0m \u001b[38;5;66;03m#if you want to change the data type from default (float) to user's choice we use the dtype = 'int32'\u001b[39;00m\n\u001b[1;32m----> 4\u001b[0m d \u001b[38;5;241m=\u001b[39m np\u001b[38;5;241m.\u001b[39mrandom\u001b[38;5;241m.\u001b[39mrand(\u001b[38;5;241m3\u001b[39m,\u001b[38;5;241m2\u001b[39m,dtype \u001b[38;5;241m=\u001b[39m \u001b[38;5;124m'\u001b[39m\u001b[38;5;124mint32\u001b[39m\u001b[38;5;124m'\u001b[39m)\n\u001b[0;32m      5\u001b[0m \u001b[38;5;28mprint\u001b[39m (\u001b[38;5;124m'\u001b[39m\u001b[38;5;124md=\u001b[39m\u001b[38;5;124m'\u001b[39m,d)\n",
      "\u001b[1;31mTypeError\u001b[0m: rand() got an unexpected keyword argument 'dtype'"
     ]
    }
   ],
   "source": [
    "c = np.random.rand(3,2)\n",
    "print ('c=',c)\n",
    "#if you want to change the data type from default (float) to user's choice we use the dtype = 'int32'\n",
    "d = np.random.rand(3,2,dtype = 'int32')\n",
    "print ('d=',d)"
   ]
  },
  {
   "cell_type": "code",
   "execution_count": 131,
   "id": "1df56141-0489-4c2d-aae8-bee59e64a380",
   "metadata": {},
   "outputs": [
    {
     "data": {
      "text/plain": [
       "array([-10.,  -8.,  -6.,  -4.,  -2.,   0.,   2.,   4.,   6.,   8.,  10.])"
      ]
     },
     "execution_count": 131,
     "metadata": {},
     "output_type": "execute_result"
    }
   ],
   "source": [
    "#np.linspace\n",
    "np.linspace(-10,10,11)"
   ]
  },
  {
   "cell_type": "code",
   "execution_count": 133,
   "id": "c0823314-f1d3-485f-97d9-18b699831875",
   "metadata": {},
   "outputs": [
    {
     "name": "stdout",
     "output_type": "stream",
     "text": [
      "[[1. 0. 0.]\n",
      " [0. 1. 0.]\n",
      " [0. 0. 1.]]\n"
     ]
    }
   ],
   "source": [
    "# np.identity\n",
    "a = np.identity(3)\n",
    "print (a)"
   ]
  },
  {
   "cell_type": "markdown",
   "id": "ab788cd2-6b4c-4eb7-8a31-fd882bd5a585",
   "metadata": {},
   "source": [
    "# Array Attributes"
   ]
  },
  {
   "cell_type": "code",
   "execution_count": 4,
   "id": "353b4e82-93c1-44eb-964f-7684a96e355a",
   "metadata": {},
   "outputs": [],
   "source": [
    "import numpy as np"
   ]
  },
  {
   "cell_type": "code",
   "execution_count": 10,
   "id": "b63d801f-560f-45f3-ad14-3e38fb9975ec",
   "metadata": {},
   "outputs": [
    {
     "data": {
      "text/plain": [
       "array([[[0, 1],\n",
       "        [2, 3]],\n",
       "\n",
       "       [[4, 5],\n",
       "        [6, 7]]])"
      ]
     },
     "execution_count": 10,
     "metadata": {},
     "output_type": "execute_result"
    }
   ],
   "source": [
    "a1 = np.arange(10)\n",
    "a2 = np.arange(12,dtype=float).reshape(3,4)\n",
    "a3 = np.arange(8).reshape(2,2,2)\n",
    "a3"
   ]
  },
  {
   "cell_type": "code",
   "execution_count": 12,
   "id": "5a9f476b-066e-4b24-9044-5d1f4ee08717",
   "metadata": {},
   "outputs": [
    {
     "data": {
      "text/plain": [
       "3"
      ]
     },
     "execution_count": 12,
     "metadata": {},
     "output_type": "execute_result"
    }
   ],
   "source": [
    "# ndim\n",
    "a3.ndim\n"
   ]
  },
  {
   "cell_type": "code",
   "execution_count": 14,
   "id": "ff6feb16-5004-4bda-91b2-88dc3a2066aa",
   "metadata": {},
   "outputs": [
    {
     "data": {
      "text/plain": [
       "(2, 2, 2)"
      ]
     },
     "execution_count": 14,
     "metadata": {},
     "output_type": "execute_result"
    }
   ],
   "source": [
    "# shape\n",
    "a3.shape"
   ]
  },
  {
   "cell_type": "code",
   "execution_count": 16,
   "id": "fbc653d5-e189-49f5-8fe2-f362395c46af",
   "metadata": {},
   "outputs": [
    {
     "data": {
      "text/plain": [
       "(10,)"
      ]
     },
     "execution_count": 16,
     "metadata": {},
     "output_type": "execute_result"
    }
   ],
   "source": [
    "a1.shape"
   ]
  },
  {
   "cell_type": "code",
   "execution_count": 18,
   "id": "fa887e61-68aa-4ede-adcf-7ab32b4a6c19",
   "metadata": {},
   "outputs": [
    {
     "name": "stdout",
     "output_type": "stream",
     "text": [
      "[0 1 2 3 4 5 6 7 8 9]\n"
     ]
    }
   ],
   "source": [
    "print(a1)\n"
   ]
  },
  {
   "cell_type": "code",
   "execution_count": 20,
   "id": "bdb5acac-c7af-447f-830a-216ace69b2aa",
   "metadata": {},
   "outputs": [
    {
     "name": "stdout",
     "output_type": "stream",
     "text": [
      "[[[0 1]\n",
      "  [2 3]]\n",
      "\n",
      " [[4 5]\n",
      "  [6 7]]]\n"
     ]
    }
   ],
   "source": [
    "print(a3)"
   ]
  },
  {
   "cell_type": "code",
   "execution_count": 26,
   "id": "4ad81dd1-b2a0-4c7f-aac6-8c39f8ac0f9a",
   "metadata": {},
   "outputs": [
    {
     "data": {
      "text/plain": [
       "4"
      ]
     },
     "execution_count": 26,
     "metadata": {},
     "output_type": "execute_result"
    }
   ],
   "source": [
    "# itemsize\n",
    "a3.itemsize\n",
    "# it will give the size of each element on that specific array\n",
    "# 'int 32' takes 4 bytes and 'int 64' takes 8 bytes storage"
   ]
  },
  {
   "cell_type": "code",
   "execution_count": 24,
   "id": "fdc0d47c-b978-4adf-923f-cd0aeb0beb25",
   "metadata": {},
   "outputs": [
    {
     "data": {
      "text/plain": [
       "8"
      ]
     },
     "execution_count": 24,
     "metadata": {},
     "output_type": "execute_result"
    }
   ],
   "source": [
    "# size\n",
    "a3.size"
   ]
  },
  {
   "cell_type": "code",
   "execution_count": 28,
   "id": "736c8e9c-c76b-47d0-9bb5-c555cf7b3938",
   "metadata": {},
   "outputs": [
    {
     "name": "stdout",
     "output_type": "stream",
     "text": [
      "int32\n",
      "float64\n",
      "int32\n"
     ]
    }
   ],
   "source": [
    "# dtype\n",
    "print(a1.dtype)\n",
    "print(a2.dtype)\n",
    "print(a3.dtype)"
   ]
  },
  {
   "cell_type": "code",
   "execution_count": 30,
   "id": "1ae2ecc3-13cf-468c-8a6c-eef14680e9ec",
   "metadata": {},
   "outputs": [
    {
     "data": {
      "text/plain": [
       "8"
      ]
     },
     "execution_count": 30,
     "metadata": {},
     "output_type": "execute_result"
    }
   ],
   "source": [
    "a2.itemsize"
   ]
  },
  {
   "cell_type": "markdown",
   "id": "d2d3bb4c-5c02-4fd1-a602-627ee683b2e0",
   "metadata": {},
   "source": [
    "# Changing Data Type"
   ]
  },
  {
   "cell_type": "code",
   "execution_count": 43,
   "id": "712cc72c-b2af-4cb8-afd7-b5f97c68dc27",
   "metadata": {},
   "outputs": [
    {
     "data": {
      "text/plain": [
       "dtype('int32')"
      ]
     },
     "execution_count": 43,
     "metadata": {},
     "output_type": "execute_result"
    }
   ],
   "source": [
    "# astype\n",
    "a3.dtype"
   ]
  },
  {
   "cell_type": "code",
   "execution_count": 45,
   "id": "dcc59310-58c1-464b-8162-9a026b9e3a18",
   "metadata": {},
   "outputs": [
    {
     "data": {
      "text/plain": [
       "array([[[0, 1],\n",
       "        [2, 3]],\n",
       "\n",
       "       [[4, 5],\n",
       "        [6, 7]]], dtype=int64)"
      ]
     },
     "execution_count": 45,
     "metadata": {},
     "output_type": "execute_result"
    }
   ],
   "source": [
    "a3.astype(np.int64)\n",
    "# typecasting it to 64 bit int"
   ]
  },
  {
   "cell_type": "markdown",
   "id": "59682279-e19b-4d91-9ca6-dc8efaf122a5",
   "metadata": {},
   "source": [
    "# Array Operations :-"
   ]
  },
  {
   "cell_type": "code",
   "execution_count": 48,
   "id": "d9c2e033-548e-4fed-8d61-d6eeac12850d",
   "metadata": {},
   "outputs": [],
   "source": [
    "a1 = np.arange(12).reshape(3,4)\n",
    "a2 = np.arange(12,24).reshape(3,4)"
   ]
  },
  {
   "cell_type": "code",
   "execution_count": 50,
   "id": "83a37b7c-9e36-4e37-b75f-962b6eff7671",
   "metadata": {},
   "outputs": [
    {
     "data": {
      "text/plain": [
       "array([[12, 13, 14, 15],\n",
       "       [16, 17, 18, 19],\n",
       "       [20, 21, 22, 23]])"
      ]
     },
     "execution_count": 50,
     "metadata": {},
     "output_type": "execute_result"
    }
   ],
   "source": [
    "a2\n"
   ]
  },
  {
   "cell_type": "code",
   "execution_count": 54,
   "id": "763a9039-7db0-4ed1-ae6c-980029ac718f",
   "metadata": {},
   "outputs": [
    {
     "name": "stdout",
     "output_type": "stream",
     "text": [
      "c1: [[  0  13  28  45]\n",
      " [ 64  85 108 133]\n",
      " [160 189 220 253]]\n",
      ", c2: [[0.         0.07692308 0.14285714 0.2       ]\n",
      " [0.25       0.29411765 0.33333333 0.36842105]\n",
      " [0.4        0.42857143 0.45454545 0.47826087]]\n",
      ", c3: [[ 0  1  2  3]\n",
      " [ 4  5  6  7]\n",
      " [ 8  9 10 11]]\n"
     ]
    }
   ],
   "source": [
    "# Scalar Operations\n",
    "\n",
    "## Arithematic\n",
    "c1=a1*a2\n",
    "c2=a1/a2\n",
    "c3=a1%a2\n",
    "print(f\"c1: {c1}\\n, c2: {c2}\\n, c3: {c3}\")\n"
   ]
  },
  {
   "cell_type": "code",
   "execution_count": 58,
   "id": "ff0d36e7-54bd-4dcd-8483-a48db9bcfcf9",
   "metadata": {},
   "outputs": [
    {
     "data": {
      "text/plain": [
       "array([[12, 14, 16, 18],\n",
       "       [20, 22, 24, 26],\n",
       "       [28, 30, 32, 34]])"
      ]
     },
     "execution_count": 58,
     "metadata": {},
     "output_type": "execute_result"
    }
   ],
   "source": [
    "# Vector Operations\n",
    "\n",
    "#arithematics\n",
    "di = a1+a2\n",
    "di"
   ]
  },
  {
   "cell_type": "code",
   "execution_count": 68,
   "id": "e0dd7bb8-05d8-476d-bf32-c33dbb13ec15",
   "metadata": {},
   "outputs": [
    {
     "data": {
      "text/plain": [
       "array([[False, False, False, False],\n",
       "       [False, False, False, False],\n",
       "       [False, False, False, False]])"
      ]
     },
     "execution_count": 68,
     "metadata": {},
     "output_type": "execute_result"
    }
   ],
   "source": [
    "# relational\n",
    "a1 == a2"
   ]
  },
  {
   "cell_type": "markdown",
   "id": "39751fef-e8cc-43cb-832c-881a10480820",
   "metadata": {},
   "source": [
    "# Array Functions"
   ]
  },
  {
   "cell_type": "code",
   "execution_count": 77,
   "id": "91fe7dba-11b5-4bb5-a344-788edeed0e3e",
   "metadata": {},
   "outputs": [
    {
     "data": {
      "text/plain": [
       "array([[46., 22., 51.],\n",
       "       [18., 42., 39.],\n",
       "       [27., 99., 25.]])"
      ]
     },
     "execution_count": 77,
     "metadata": {},
     "output_type": "execute_result"
    }
   ],
   "source": [
    "a1 = np.random.random((3,3))\n",
    "a1 = np.round(a1*100)\n",
    "# np.round is used to rounding off the digits\n",
    "a1"
   ]
  },
  {
   "cell_type": "code",
   "execution_count": 87,
   "id": "8fb1c80b-862e-475b-b96f-fe96aea8cd27",
   "metadata": {},
   "outputs": [
    {
     "name": "stdout",
     "output_type": "stream",
     "text": [
      "max is :  99.0\n",
      "min is :  18.0\n",
      "sum is :  369.0\n",
      "prod is :  101689487499600.0\n"
     ]
    }
   ],
   "source": [
    "# max/min/sum/prod\n",
    "print ('max is : ',np.max(a1))\n",
    "print ('min is : ',np.min(a1))\n",
    "print ('sum is : ',np.sum(a1))\n",
    "print ('prod is : ',np.prod(a1))\n"
   ]
  },
  {
   "cell_type": "code",
   "execution_count": 95,
   "id": "6210e726-c89e-4f53-8d3e-5fc34bc298f1",
   "metadata": {},
   "outputs": [
    {
     "name": "stdout",
     "output_type": "stream",
     "text": [
      "mean is :  41.0\n",
      "median is :  39.0\n",
      "std is :  23.18045153428495\n",
      "var is :  537.3333333333334\n"
     ]
    }
   ],
   "source": [
    "# mean/median/std/var\n",
    "print ('mean is : ',np.mean(a1))\n",
    "print ('median is : ',np.median(a1))\n",
    "print ('std is : ',np.std(a1))\n",
    "print ('var is : ',np.var(a1))"
   ]
  },
  {
   "cell_type": "code",
   "execution_count": 97,
   "id": "de406517-7b57-4cc6-8f5f-68b89127ed45",
   "metadata": {},
   "outputs": [
    {
     "data": {
      "text/plain": [
       "array([[46., 22., 51.],\n",
       "       [18., 42., 39.],\n",
       "       [27., 99., 25.]])"
      ]
     },
     "execution_count": 97,
     "metadata": {},
     "output_type": "execute_result"
    }
   ],
   "source": [
    "a1"
   ]
  },
  {
   "cell_type": "code",
   "execution_count": 103,
   "id": "4c5fa336-50b2-4267-949c-a3ca897a8c8e",
   "metadata": {},
   "outputs": [
    {
     "data": {
      "text/plain": [
       "array([22356., 91476., 49725.])"
      ]
     },
     "execution_count": 103,
     "metadata": {},
     "output_type": "execute_result"
    }
   ],
   "source": [
    "np.prod(a1,axis=0)\n",
    "# axis = 0 refers to the row, i.e 1st dimension of the 2-D array. It will add in up to down manner and create a single row of result.\n",
    "# Similarly,\n",
    "# axis = 1 refers to the column, i.e 2nd dimension of the 2-D array. It will add in left to right manner and create a single column of result,\n",
    "# but it will shown in the same manner as row for saving the screen space.\n",
    "# We can do axis thing with all functions and all"
   ]
  },
  {
   "cell_type": "code",
   "execution_count": 101,
   "id": "08a08e65-a8d9-4cb7-ba5b-ed5e71c02333",
   "metadata": {},
   "outputs": [
    {
     "data": {
      "text/plain": [
       "array([51612., 29484., 66825.])"
      ]
     },
     "execution_count": 101,
     "metadata": {},
     "output_type": "execute_result"
    }
   ],
   "source": [
    "np.prod(a1,axis=1)"
   ]
  },
  {
   "cell_type": "code",
   "execution_count": 105,
   "id": "9c7557cb-c89f-41f8-8fd9-16a22e2c2984",
   "metadata": {},
   "outputs": [
    {
     "data": {
      "text/plain": [
       "array([22., 18., 25.])"
      ]
     },
     "execution_count": 105,
     "metadata": {},
     "output_type": "execute_result"
    }
   ],
   "source": [
    "np.min (a1,axis=1)"
   ]
  },
  {
   "cell_type": "code",
   "execution_count": 107,
   "id": "a4aa8a54-8973-496c-9984-8a06c716e0df",
   "metadata": {},
   "outputs": [
    {
     "data": {
      "text/plain": [
       "array([[ 0.90178835, -0.00885131,  0.67022918],\n",
       "       [-0.75098725, -0.91652155,  0.96379539],\n",
       "       [ 0.95637593, -0.99920683, -0.13235175]])"
      ]
     },
     "execution_count": 107,
     "metadata": {},
     "output_type": "execute_result"
    }
   ],
   "source": [
    "# trignometric functions\n",
    "np.sin(a1)"
   ]
  },
  {
   "cell_type": "code",
   "execution_count": 109,
   "id": "86e10ee2-7370-44c5-b395-2694f8104ed5",
   "metadata": {},
   "outputs": [
    {
     "data": {
      "text/plain": [
       "array([[-2.08661353e+00,  8.85165604e-03,  9.03086149e-01],\n",
       "       [-1.13731371e+00,  2.29138799e+00,  3.61455441e+00],\n",
       "       [-3.27370380e+00, -2.50925350e+01, -1.33526407e-01]])"
      ]
     },
     "execution_count": 109,
     "metadata": {},
     "output_type": "execute_result"
    }
   ],
   "source": [
    "np.tan(a1)"
   ]
  },
  {
   "cell_type": "code",
   "execution_count": 113,
   "id": "69c80b8c-678b-42f7-bc4c-50328d7dd8f1",
   "metadata": {},
   "outputs": [
    {
     "data": {
      "text/plain": [
       "array([[114, 120, 126],\n",
       "       [378, 400, 422],\n",
       "       [642, 680, 718]])"
      ]
     },
     "execution_count": 113,
     "metadata": {},
     "output_type": "execute_result"
    }
   ],
   "source": [
    "# dot product\n",
    "a2 =  np.arange(12).reshape(3,4)\n",
    "a3 =  np.arange(12,24).reshape(4,3)\n",
    "np.dot(a2,a3)"
   ]
  },
  {
   "cell_type": "code",
   "execution_count": 121,
   "id": "ca4d1287-9371-4b1c-862b-89c6273ca8a1",
   "metadata": {},
   "outputs": [
    {
     "data": {
      "text/plain": [
       "array([[3.8286414 , 3.09104245, 3.93182563],\n",
       "       [2.89037176, 3.73766962, 3.66356165],\n",
       "       [3.29583687, 4.59511985, 3.21887582]])"
      ]
     },
     "execution_count": 121,
     "metadata": {},
     "output_type": "execute_result"
    }
   ],
   "source": [
    "# log and exponents\n",
    "d=np.log(a1)\n",
    "d"
   ]
  },
  {
   "cell_type": "code",
   "execution_count": 123,
   "id": "701b241a-4a8a-4dd8-a61b-e5c230c36dda",
   "metadata": {},
   "outputs": [
    {
     "data": {
      "text/plain": [
       "array([[4., 3., 4.],\n",
       "       [3., 4., 4.],\n",
       "       [3., 5., 3.]])"
      ]
     },
     "execution_count": 123,
     "metadata": {},
     "output_type": "execute_result"
    }
   ],
   "source": [
    "# round\n",
    "np.round(d)"
   ]
  },
  {
   "cell_type": "code",
   "execution_count": 125,
   "id": "72f60a94-0529-4b17-abe6-d2f54d5557dc",
   "metadata": {},
   "outputs": [],
   "source": [
    "# floor\n"
   ]
  },
  {
   "cell_type": "code",
   "execution_count": 127,
   "id": "3b03d97c-bde3-4633-bd3a-30e67869a136",
   "metadata": {},
   "outputs": [],
   "source": [
    "# ceil\n"
   ]
  },
  {
   "cell_type": "markdown",
   "id": "592a86c9-9b56-478f-8bda-dac9af5eacc9",
   "metadata": {},
   "source": [
    "# Indexing and Slicing"
   ]
  },
  {
   "cell_type": "code",
   "execution_count": 138,
   "id": "61e66c8f-3aa5-4cf6-90a8-f55561ee77ac",
   "metadata": {},
   "outputs": [
    {
     "data": {
      "text/plain": [
       "array([0, 1, 2, 3, 4, 5, 6, 7, 8, 9])"
      ]
     },
     "execution_count": 138,
     "metadata": {},
     "output_type": "execute_result"
    }
   ],
   "source": [
    "a1 = np.arange(10)\n",
    "a2 = np.arange(12).reshape(3,4)\n",
    "a1"
   ]
  },
  {
   "cell_type": "code",
   "execution_count": 140,
   "id": "d213d908-1695-4754-8479-5ebcd41087ca",
   "metadata": {},
   "outputs": [
    {
     "data": {
      "text/plain": [
       "4"
      ]
     },
     "execution_count": 140,
     "metadata": {},
     "output_type": "execute_result"
    }
   ],
   "source": [
    "a1[4]\n"
   ]
  },
  {
   "cell_type": "code",
   "execution_count": 142,
   "id": "f87c3e61-b35f-43c5-bd1a-bd965a5d711e",
   "metadata": {},
   "outputs": [
    {
     "data": {
      "text/plain": [
       "array([[ 0,  1,  2,  3],\n",
       "       [ 4,  5,  6,  7],\n",
       "       [ 8,  9, 10, 11]])"
      ]
     },
     "execution_count": 142,
     "metadata": {},
     "output_type": "execute_result"
    }
   ],
   "source": [
    "a2"
   ]
  },
  {
   "cell_type": "code",
   "execution_count": 144,
   "id": "ca6828d9-eb91-4010-8a69-b3bf3139804f",
   "metadata": {},
   "outputs": [
    {
     "data": {
      "text/plain": [
       "6"
      ]
     },
     "execution_count": 144,
     "metadata": {},
     "output_type": "execute_result"
    }
   ],
   "source": [
    "# If I have to slice 6 out of this array\n",
    "a2[1,2]"
   ]
  },
  {
   "cell_type": "code",
   "execution_count": 148,
   "id": "b7d83491-d550-4ece-89b2-7a735712afd4",
   "metadata": {},
   "outputs": [
    {
     "data": {
      "text/plain": [
       "array([ 8,  9, 10, 11])"
      ]
     },
     "execution_count": 148,
     "metadata": {},
     "output_type": "execute_result"
    }
   ],
   "source": [
    "# Slicing the last row\n",
    "a2[2,:]"
   ]
  },
  {
   "cell_type": "code",
   "execution_count": 150,
   "id": "6772af2e-ebda-4b65-a796-0d41cfc20c83",
   "metadata": {},
   "outputs": [
    {
     "data": {
      "text/plain": [
       "array([ 2,  6, 10])"
      ]
     },
     "execution_count": 150,
     "metadata": {},
     "output_type": "execute_result"
    }
   ],
   "source": [
    "# Slicing the 2nd last colummn\n",
    "a2[:,2]"
   ]
  },
  {
   "cell_type": "code",
   "execution_count": 9,
   "id": "1cafca71-9683-4099-bf3f-3125edbe4cca",
   "metadata": {},
   "outputs": [
    {
     "data": {
      "text/plain": [
       "array([[[ 0,  1,  2],\n",
       "        [ 3,  4,  5],\n",
       "        [ 6,  7,  8]],\n",
       "\n",
       "       [[ 9, 10, 11],\n",
       "        [12, 13, 14],\n",
       "        [15, 16, 17]],\n",
       "\n",
       "       [[18, 19, 20],\n",
       "        [21, 22, 23],\n",
       "        [24, 25, 26]]])"
      ]
     },
     "execution_count": 9,
     "metadata": {},
     "output_type": "execute_result"
    }
   ],
   "source": [
    "a3  = np.arange(27).reshape(3,3,3)\n",
    "a3"
   ]
  },
  {
   "cell_type": "code",
   "execution_count": 156,
   "id": "878a59ee-718e-4db3-aabf-ea8bc9866f02",
   "metadata": {},
   "outputs": [
    {
     "data": {
      "text/plain": [
       "array([ 4, 13, 22])"
      ]
     },
     "execution_count": 156,
     "metadata": {},
     "output_type": "execute_result"
    }
   ],
   "source": [
    "# Slicing the middle most element of each 2-d matrix (4,13,22)\n",
    "a3[:,1,1]\n"
   ]
  },
  {
   "cell_type": "markdown",
   "id": "ed820723-b7be-410d-af24-34048fdc0b2a",
   "metadata": {},
   "source": [
    "# Iteration"
   ]
  },
  {
   "cell_type": "code",
   "execution_count": 5,
   "id": "9bfda28c-5ecf-4c71-826f-e48865245024",
   "metadata": {},
   "outputs": [],
   "source": [
    "import numpy as np"
   ]
  },
  {
   "cell_type": "code",
   "execution_count": 11,
   "id": "cb0e54d6-1a0d-4973-adfd-d1807517f98b",
   "metadata": {},
   "outputs": [
    {
     "data": {
      "text/plain": [
       "array([[[ 0,  1,  2],\n",
       "        [ 3,  4,  5],\n",
       "        [ 6,  7,  8]],\n",
       "\n",
       "       [[ 9, 10, 11],\n",
       "        [12, 13, 14],\n",
       "        [15, 16, 17]],\n",
       "\n",
       "       [[18, 19, 20],\n",
       "        [21, 22, 23],\n",
       "        [24, 25, 26]]])"
      ]
     },
     "execution_count": 11,
     "metadata": {},
     "output_type": "execute_result"
    }
   ],
   "source": [
    "a3"
   ]
  },
  {
   "cell_type": "code",
   "execution_count": 13,
   "id": "39330e83-402b-4746-a14f-611e1c3568a9",
   "metadata": {},
   "outputs": [
    {
     "name": "stdout",
     "output_type": "stream",
     "text": [
      "[[0 1 2]\n",
      " [3 4 5]\n",
      " [6 7 8]]\n",
      "[[ 9 10 11]\n",
      " [12 13 14]\n",
      " [15 16 17]]\n",
      "[[18 19 20]\n",
      " [21 22 23]\n",
      " [24 25 26]]\n"
     ]
    }
   ],
   "source": [
    "for i in a3 :\n",
    "    print (i)"
   ]
  },
  {
   "cell_type": "code",
   "execution_count": 15,
   "id": "4ae92f75-86df-4599-8fc5-73b3ec545a9e",
   "metadata": {},
   "outputs": [
    {
     "name": "stdout",
     "output_type": "stream",
     "text": [
      "0\n",
      "1\n",
      "2\n",
      "3\n",
      "4\n",
      "5\n",
      "6\n",
      "7\n",
      "8\n",
      "9\n",
      "10\n",
      "11\n",
      "12\n",
      "13\n",
      "14\n",
      "15\n",
      "16\n",
      "17\n",
      "18\n",
      "19\n",
      "20\n",
      "21\n",
      "22\n",
      "23\n",
      "24\n",
      "25\n",
      "26\n"
     ]
    }
   ],
   "source": [
    "for i in np.nditer(a3):\n",
    "    print (i)"
   ]
  },
  {
   "cell_type": "markdown",
   "id": "648017f2-8134-4c00-995c-ba75cde4eabc",
   "metadata": {},
   "source": [
    "# Reshaping"
   ]
  },
  {
   "cell_type": "code",
   "execution_count": 10,
   "id": "d4486ce8-2002-4f3c-88f3-b0268bf2f03e",
   "metadata": {},
   "outputs": [
    {
     "data": {
      "text/plain": [
       "array([[ 0,  1,  2,  3],\n",
       "       [ 4,  5,  6,  7],\n",
       "       [ 8,  9, 10, 11],\n",
       "       [12, 13, 14, 15]])"
      ]
     },
     "execution_count": 10,
     "metadata": {},
     "output_type": "execute_result"
    }
   ],
   "source": [
    "# reshaping\n",
    "a = np.arange(16).reshape(4,4)\n",
    "a\n"
   ]
  },
  {
   "cell_type": "code",
   "execution_count": 16,
   "id": "d03f8fa5-e9d4-4ab3-889a-534b440281b6",
   "metadata": {},
   "outputs": [
    {
     "data": {
      "text/plain": [
       "array([[ 0,  4,  8, 12],\n",
       "       [ 1,  5,  9, 13],\n",
       "       [ 2,  6, 10, 14],\n",
       "       [ 3,  7, 11, 15]])"
      ]
     },
     "execution_count": 16,
     "metadata": {},
     "output_type": "execute_result"
    }
   ],
   "source": [
    "# Transpose by a.T or np.transpose(a)\n",
    "b = a.T\n",
    "b"
   ]
  },
  {
   "cell_type": "code",
   "execution_count": 24,
   "id": "cbc8d17c-518e-466f-8edb-52a451415903",
   "metadata": {},
   "outputs": [
    {
     "data": {
      "text/plain": [
       "array([ 0,  4,  8, 12,  1,  5,  9, 13,  2,  6, 10, 14,  3,  7, 11, 15])"
      ]
     },
     "execution_count": 24,
     "metadata": {},
     "output_type": "execute_result"
    }
   ],
   "source": [
    "# ravel\n",
    "b.ravel()"
   ]
  },
  {
   "cell_type": "code",
   "execution_count": 26,
   "id": "da85dade-e16a-43c2-922b-5825080e6d97",
   "metadata": {},
   "outputs": [],
   "source": [
    "# if you got the result then it is the temproroary operation otherwise it is permanent operation"
   ]
  },
  {
   "cell_type": "markdown",
   "id": "06ce3c57-72e9-45e3-b4e0-89cfaedc9a2b",
   "metadata": {},
   "source": [
    "# Stacking\n"
   ]
  },
  {
   "cell_type": "code",
   "execution_count": 42,
   "id": "531eb9fc-70df-4893-8e3f-68af4e7e5c4a",
   "metadata": {},
   "outputs": [
    {
     "data": {
      "text/plain": [
       "array([[0, 1, 4, 5],\n",
       "       [2, 3, 6, 7]])"
      ]
     },
     "execution_count": 42,
     "metadata": {},
     "output_type": "execute_result"
    }
   ],
   "source": [
    "# Horizontal Stacking\n",
    "a = np.arange(4).reshape(2,2)\n",
    "b = np.arange(4,8).reshape(2,2)\n",
    "c1 = np.hstack((a,b))\n",
    "c1"
   ]
  },
  {
   "cell_type": "code",
   "execution_count": 40,
   "id": "87f24b2a-1d33-4908-b5b5-156441809224",
   "metadata": {},
   "outputs": [
    {
     "data": {
      "text/plain": [
       "array([[0, 1],\n",
       "       [2, 3],\n",
       "       [4, 5],\n",
       "       [6, 7]])"
      ]
     },
     "execution_count": 40,
     "metadata": {},
     "output_type": "execute_result"
    }
   ],
   "source": [
    "# Vertical Stacking\n",
    "c2 =  np.vstack((a,b))\n",
    "c2"
   ]
  },
  {
   "cell_type": "markdown",
   "id": "29ed6940-ec2d-46db-82c2-f5e05e88a76a",
   "metadata": {},
   "source": [
    "#  Spilitting"
   ]
  },
  {
   "cell_type": "code",
   "execution_count": 46,
   "id": "86658f0d-396c-41e4-9913-f0dff1e097b9",
   "metadata": {},
   "outputs": [
    {
     "data": {
      "text/plain": [
       "[array([[0, 1],\n",
       "        [2, 3]]),\n",
       " array([[4, 5],\n",
       "        [6, 7]])]"
      ]
     },
     "execution_count": 46,
     "metadata": {},
     "output_type": "execute_result"
    }
   ],
   "source": [
    "# Vertical Splitting\n",
    "np.vsplit(c2,2)\n"
   ]
  },
  {
   "cell_type": "code",
   "execution_count": 48,
   "id": "c2f20403-086b-48f7-80fc-7aad2ea07f61",
   "metadata": {},
   "outputs": [
    {
     "data": {
      "text/plain": [
       "[array([[0, 1],\n",
       "        [2, 3]]),\n",
       " array([[4, 5],\n",
       "        [6, 7]])]"
      ]
     },
     "execution_count": 48,
     "metadata": {},
     "output_type": "execute_result"
    }
   ],
   "source": [
    "# Horizontal Splitting\n",
    "np.hsplit(c1,2)"
   ]
  },
  {
   "cell_type": "markdown",
   "id": "488779b0-23ff-49b8-9389-2c453f0c3895",
   "metadata": {},
   "source": [
    "# Numpy Array v/s Python List"
   ]
  },
  {
   "cell_type": "markdown",
   "id": "7a186b2e-a421-4c58-84ee-f40be3275f57",
   "metadata": {},
   "source": [
    "## Wrt Time"
   ]
  },
  {
   "cell_type": "code",
   "execution_count": 51,
   "id": "77ea87e2-0563-4991-982e-f30b1c7cdb52",
   "metadata": {},
   "outputs": [],
   "source": [
    "import time"
   ]
  },
  {
   "cell_type": "code",
   "execution_count": 84,
   "id": "b326d0a9-9bcd-4edf-93f1-091298b7eb7c",
   "metadata": {},
   "outputs": [
    {
     "name": "stdout",
     "output_type": "stream",
     "text": [
      "1.9504733085632324\n"
     ]
    }
   ],
   "source": [
    "# speed of list\n",
    "a = [i for i in range(10000000)]\n",
    "b = [i for i in range(10000000,20000000)]\n",
    "\n",
    "c = []\n",
    "\n",
    "st = time.time()\n",
    "for i in range(len(a)) :\n",
    "    c.append(a[i] + b[i])\n",
    "print (time.time() - st)"
   ]
  },
  {
   "cell_type": "code",
   "execution_count": 86,
   "id": "72411f2b-d6e5-4cfd-854b-175e6f09f65a",
   "metadata": {},
   "outputs": [
    {
     "name": "stdout",
     "output_type": "stream",
     "text": [
      "0.13576173782348633\n"
     ]
    }
   ],
   "source": [
    "# Speed of Numpy Array\n",
    "a1 = np.arange(10000000)\n",
    "b1 = np.arange(10000000,20000000)\n",
    "\n",
    "st = time.time()\n",
    "c = a1+b1\n",
    "print (time.time()-st)"
   ]
  },
  {
   "cell_type": "code",
   "execution_count": 57,
   "id": "63225663-3386-4113-b64f-b60111312acc",
   "metadata": {},
   "outputs": [
    {
     "data": {
      "text/plain": [
       "15.684286027658409"
      ]
     },
     "execution_count": 57,
     "metadata": {},
     "output_type": "execute_result"
    }
   ],
   "source": [
    "2.369520425796509/0.151076078414917"
   ]
  },
  {
   "cell_type": "markdown",
   "id": "d1a34d73-4a88-4ea8-9eb3-de927a8a7a33",
   "metadata": {},
   "source": [
    "## Wrt Memory"
   ]
  },
  {
   "cell_type": "code",
   "execution_count": 71,
   "id": "f250ff19-705b-432c-8b1f-4702ee5f1f46",
   "metadata": {},
   "outputs": [
    {
     "data": {
      "text/plain": [
       "89095160"
      ]
     },
     "execution_count": 71,
     "metadata": {},
     "output_type": "execute_result"
    }
   ],
   "source": [
    "# list\n",
    "import sys\n",
    "sys.getsizeof(a)"
   ]
  },
  {
   "cell_type": "code",
   "execution_count": 73,
   "id": "9e7905f3-98ff-48b4-82af-d6955142c950",
   "metadata": {},
   "outputs": [
    {
     "data": {
      "text/plain": [
       "40000112"
      ]
     },
     "execution_count": 73,
     "metadata": {},
     "output_type": "execute_result"
    }
   ],
   "source": [
    "# Numpy array\n",
    "sys.getsizeof(a1)"
   ]
  },
  {
   "cell_type": "code",
   "execution_count": 75,
   "id": "19d790ea-1171-4817-9c7e-44e8115dd20c",
   "metadata": {},
   "outputs": [
    {
     "data": {
      "text/plain": [
       "2.2273727633562626"
      ]
     },
     "execution_count": 75,
     "metadata": {},
     "output_type": "execute_result"
    }
   ],
   "source": [
    "89095160/40000112"
   ]
  },
  {
   "cell_type": "code",
   "execution_count": null,
   "id": "20d43a21-609c-4822-a54c-c8fb28e6a213",
   "metadata": {},
   "outputs": [],
   "source": [
    "## It is more convinient as well"
   ]
  },
  {
   "cell_type": "markdown",
   "id": "38068b57-c803-4017-8ce2-fdf962f2f280",
   "metadata": {},
   "source": [
    "# Advance Indexing"
   ]
  },
  {
   "cell_type": "code",
   "execution_count": 90,
   "id": "bfcd61db-8b47-4b93-8ed6-ae783b8b958f",
   "metadata": {},
   "outputs": [
    {
     "data": {
      "text/plain": [
       "array([[ 0,  1,  2],\n",
       "       [ 3,  4,  5],\n",
       "       [ 6,  7,  8],\n",
       "       [ 9, 10, 11]])"
      ]
     },
     "execution_count": 90,
     "metadata": {},
     "output_type": "execute_result"
    }
   ],
   "source": [
    "# Fancy Indexing\n",
    "a = np.arange(12).reshape(4,3)\n",
    "a\n"
   ]
  },
  {
   "cell_type": "code",
   "execution_count": 92,
   "id": "866b622d-1759-49e4-a7ad-f0b189de215d",
   "metadata": {},
   "outputs": [
    {
     "data": {
      "text/plain": [
       "array([[ 0,  1,  2],\n",
       "       [ 6,  7,  8],\n",
       "       [ 9, 10, 11]])"
      ]
     },
     "execution_count": 92,
     "metadata": {},
     "output_type": "execute_result"
    }
   ],
   "source": [
    "# If you want to slice uneven elements like you want 0th, 2nd and 3rd row\n",
    "a[[0,2,3]]\n"
   ]
  },
  {
   "cell_type": "code",
   "execution_count": 94,
   "id": "c9e1760f-5cdf-4652-876f-0b17c4f16e99",
   "metadata": {},
   "outputs": [
    {
     "data": {
      "text/plain": [
       "array([ 1,  3,  7, 11])"
      ]
     },
     "execution_count": 94,
     "metadata": {},
     "output_type": "execute_result"
    }
   ],
   "source": [
    "# If I want to slice 1,3,7,11 from this array\n",
    "a[[0,1,2,3],[1,0,1,2]]"
   ]
  },
  {
   "cell_type": "code",
   "execution_count": 96,
   "id": "1318bf35-55ee-4d4e-80a9-50b68c5b0f6c",
   "metadata": {},
   "outputs": [
    {
     "data": {
      "text/plain": [
       "array([[96,  4, 69, 33],\n",
       "       [45, 57, 44, 59],\n",
       "       [74, 90, 61, 13],\n",
       "       [65, 99,  8, 44],\n",
       "       [47, 93, 34, 29],\n",
       "       [35, 95, 30, 90]])"
      ]
     },
     "execution_count": 96,
     "metadata": {},
     "output_type": "execute_result"
    }
   ],
   "source": [
    "# Boolean Indexing\n",
    "a = np.random.randint(1,100,24).reshape(6,4)\n",
    "a"
   ]
  },
  {
   "cell_type": "code",
   "execution_count": 98,
   "id": "9c221b0b-6191-4427-8819-44e582dc0a6f",
   "metadata": {},
   "outputs": [
    {
     "data": {
      "text/plain": [
       "array([[ True, False,  True, False],\n",
       "       [False,  True, False,  True],\n",
       "       [ True,  True,  True, False],\n",
       "       [ True,  True, False, False],\n",
       "       [False,  True, False, False],\n",
       "       [False,  True, False,  True]])"
      ]
     },
     "execution_count": 98,
     "metadata": {},
     "output_type": "execute_result"
    }
   ],
   "source": [
    "# find all number greater than 50\n",
    "a >50"
   ]
  },
  {
   "cell_type": "code",
   "execution_count": 102,
   "id": "77386700-975b-4c6a-9fce-1af6e879ef8c",
   "metadata": {},
   "outputs": [
    {
     "data": {
      "text/plain": [
       "array([96, 69, 57, 59, 74, 90, 61, 65, 99, 93, 95, 90])"
      ]
     },
     "execution_count": 102,
     "metadata": {},
     "output_type": "execute_result"
    }
   ],
   "source": [
    "a [a>50]\n"
   ]
  },
  {
   "cell_type": "code",
   "execution_count": 104,
   "id": "87f1581c-57a4-44af-baf3-56c2cce18c1b",
   "metadata": {},
   "outputs": [
    {
     "data": {
      "text/plain": [
       "array([96,  4, 44, 74, 90,  8, 44, 34, 30, 90])"
      ]
     },
     "execution_count": 104,
     "metadata": {},
     "output_type": "execute_result"
    }
   ],
   "source": [
    "# find all even number\n",
    "a[a%2==0]"
   ]
  },
  {
   "cell_type": "code",
   "execution_count": 112,
   "id": "4c35204a-0227-4b27-a7ff-7aa0bc39ea94",
   "metadata": {},
   "outputs": [
    {
     "data": {
      "text/plain": [
       "array([96, 74, 90, 90])"
      ]
     },
     "execution_count": 112,
     "metadata": {},
     "output_type": "execute_result"
    }
   ],
   "source": [
    "# find all numbers greater than 50 and are even\n",
    "a[(a>50) & (a%2==0)]\n",
    "# We use bitwise operator (&) for Boolean Expressions"
   ]
  },
  {
   "cell_type": "code",
   "execution_count": 114,
   "id": "f08a10e4-b41c-433e-990b-901e3d3cbf53",
   "metadata": {},
   "outputs": [
    {
     "data": {
      "text/plain": [
       "array([35])"
      ]
     },
     "execution_count": 114,
     "metadata": {},
     "output_type": "execute_result"
    }
   ],
   "source": [
    "# Find all numbers divisible by 7\n",
    "a[a%7==0]"
   ]
  },
  {
   "cell_type": "markdown",
   "id": "3f0d98b3-fe93-4943-b6d2-05f659281a2b",
   "metadata": {},
   "source": [
    "# Broadcasting\n",
    "\n",
    "The term broadcasting describes how Numpy treats arrays with diffrent shapes during arithematic operations.<br>\n",
    "The smaller array is \"broadcast\" across the larger array so that they have compatible shapes.<br>\n",
    "\"Chota array ko bda bnate hai, arithematic operation ho ske !!\""
   ]
  },
  {
   "cell_type": "markdown",
   "id": "ad4ff25b-724b-4592-9325-1affc807a1f9",
   "metadata": {},
   "source": [
    "## Broadcasting Rules :-\n",
    "1. Make the two arrays have the same number of dimensions.\n",
    "   > If the number of dimensions of the two arrays are diffrent, add new dimensions with the size 1 to the\n",
    "   head of the array with the smaller dimension."
   ]
  },
  {
   "cell_type": "markdown",
   "id": "faf53d72-860c-4072-b6e7-286eb86c30c0",
   "metadata": {},
   "source": [
    "2. Make each dimension of the two arrays the same size.\n",
    "   * If the size of each dimension of the two arrays do not match, dimensions with size 1 are stretched to the size of the other array.\n",
    "   * If there is a dimension whose size is not 1 in either of the two arrays, it cannot be broadcasted, and an error is raised."
   ]
  },
  {
   "cell_type": "markdown",
   "id": "37420c67-7f7d-4f4f-8ec1-fa0884086db9",
   "metadata": {},
   "source": [
    "## Examples"
   ]
  },
  {
   "cell_type": "code",
   "execution_count": 7,
   "id": "1a1867c8-a176-4bb9-97ec-4d82956f0f00",
   "metadata": {},
   "outputs": [
    {
     "name": "stdout",
     "output_type": "stream",
     "text": [
      "[[ 0  1  2]\n",
      " [ 3  4  5]\n",
      " [ 6  7  8]\n",
      " [ 9 10 11]]\n",
      "[0 1 2]\n",
      "[[ 0  2  4]\n",
      " [ 3  5  7]\n",
      " [ 6  8 10]\n",
      " [ 9 11 13]]\n"
     ]
    }
   ],
   "source": [
    "\n",
    "\n",
    "a = np.arange(12).reshape(4,3)\n",
    "b = np.arange(3)\n",
    "\n",
    "print (a)\n",
    "print (b)\n",
    "\n",
    "print (a+b)"
   ]
  },
  {
   "cell_type": "code",
   "execution_count": 9,
   "id": "94d4cadc-1dc5-4ce3-bea3-fb8cf53f295b",
   "metadata": {},
   "outputs": [
    {
     "name": "stdout",
     "output_type": "stream",
     "text": [
      "[[ 0  1  2  3]\n",
      " [ 4  5  6  7]\n",
      " [ 8  9 10 11]]\n",
      "[0 1 2]\n"
     ]
    },
    {
     "ename": "ValueError",
     "evalue": "operands could not be broadcast together with shapes (3,4) (3,) ",
     "output_type": "error",
     "traceback": [
      "\u001b[1;31m---------------------------------------------------------------------------\u001b[0m",
      "\u001b[1;31mValueError\u001b[0m                                Traceback (most recent call last)",
      "Cell \u001b[1;32mIn[9], line 9\u001b[0m\n\u001b[0;32m      6\u001b[0m \u001b[38;5;28mprint\u001b[39m (a)\n\u001b[0;32m      7\u001b[0m \u001b[38;5;28mprint\u001b[39m (b)\n\u001b[1;32m----> 9\u001b[0m \u001b[38;5;28mprint\u001b[39m (a\u001b[38;5;241m+\u001b[39mb)\n",
      "\u001b[1;31mValueError\u001b[0m: operands could not be broadcast together with shapes (3,4) (3,) "
     ]
    }
   ],
   "source": [
    "# Examples\n",
    "\n",
    "a = np.arange(12).reshape(3,4)\n",
    "b = np.arange(3)\n",
    "\n",
    "print (a)\n",
    "print (b)\n",
    "\n",
    "print (a+b)"
   ]
  },
  {
   "cell_type": "code",
   "execution_count": 11,
   "id": "252b02d8-802b-4adf-84af-399c6fccfa20",
   "metadata": {},
   "outputs": [],
   "source": [
    "# Here in broadcasting we need 1, if there is no 1 then scratching is not performed"
   ]
  },
  {
   "cell_type": "markdown",
   "id": "9e5217da-1f16-47aa-b1f0-abb2fdf955c4",
   "metadata": {},
   "source": [
    "# Working with Mathematical Formulas :-"
   ]
  },
  {
   "cell_type": "code",
   "execution_count": 14,
   "id": "26a5e40e-dfb2-47a1-971d-128348a1f3f0",
   "metadata": {},
   "outputs": [
    {
     "data": {
      "text/plain": [
       "15"
      ]
     },
     "execution_count": 14,
     "metadata": {},
     "output_type": "execute_result"
    }
   ],
   "source": [
    "a = np.arange(6)\n",
    "np.sum(a)"
   ]
  },
  {
   "cell_type": "code",
   "execution_count": 16,
   "id": "1b0d86c6-6e6a-466e-9b79-222882a29be1",
   "metadata": {},
   "outputs": [
    {
     "data": {
      "text/plain": [
       "array([ 0.        ,  0.84147098,  0.90929743,  0.14112001, -0.7568025 ,\n",
       "       -0.95892427])"
      ]
     },
     "execution_count": 16,
     "metadata": {},
     "output_type": "execute_result"
    }
   ],
   "source": [
    "np.sin(a)"
   ]
  },
  {
   "cell_type": "code",
   "execution_count": 20,
   "id": "13ea3f9d-902d-409a-8359-e139e898a9b5",
   "metadata": {},
   "outputs": [
    {
     "data": {
      "text/plain": [
       "array([0.5       , 0.73105858, 0.88079708, 0.95257413, 0.98201379,\n",
       "       0.99330715, 0.99752738, 0.99908895, 0.99966465, 0.99987661])"
      ]
     },
     "execution_count": 20,
     "metadata": {},
     "output_type": "execute_result"
    }
   ],
   "source": [
    "# Sigmoid  (Defining an  function for regular use)\n",
    "def sigmoid (array) :\n",
    "    return 1/(1+ np.exp(-(array)))\n",
    "\n",
    "a = np.arange(10)\n",
    "sigmoid(a)"
   ]
  },
  {
   "cell_type": "markdown",
   "id": "29949f46-fd27-472a-bd56-c1bee25b1960",
   "metadata": {},
   "source": [
    "## Mean Squared Error"
   ]
  },
  {
   "cell_type": "code",
   "execution_count": 24,
   "id": "b9b2107a-e3d3-4a8c-b26d-49c4b099ad5a",
   "metadata": {},
   "outputs": [],
   "source": [
    "\n",
    "actual = np.random.randint(1,50,25)\n",
    "predicted = np.random.randint(1,50,25)\n"
   ]
  },
  {
   "cell_type": "code",
   "execution_count": 26,
   "id": "89a6fee2-a656-42db-aaea-e91fafdd3b5f",
   "metadata": {},
   "outputs": [
    {
     "data": {
      "text/plain": [
       "array([16,  5, 29, 18,  9,  8, 29, 23, 23,  3, 23, 20, 35, 29, 11,  4,  6,\n",
       "       22, 45, 24, 42, 25, 14, 38, 33])"
      ]
     },
     "execution_count": 26,
     "metadata": {},
     "output_type": "execute_result"
    }
   ],
   "source": [
    "actual"
   ]
  },
  {
   "cell_type": "code",
   "execution_count": 28,
   "id": "e7b3475e-1f83-44c3-9983-74dc4b9440a0",
   "metadata": {},
   "outputs": [
    {
     "data": {
      "text/plain": [
       "array([14, 25, 36, 31, 12, 20, 25, 26, 19, 46, 37, 23,  2,  4,  8,  8, 49,\n",
       "       31, 48, 44, 47, 27, 13, 44, 16])"
      ]
     },
     "execution_count": 28,
     "metadata": {},
     "output_type": "execute_result"
    }
   ],
   "source": [
    "predicted"
   ]
  },
  {
   "cell_type": "code",
   "execution_count": 35,
   "id": "d42fe4d6-020e-4f7e-9963-7a50dec63084",
   "metadata": {},
   "outputs": [],
   "source": [
    "def mse (act,prd):\n",
    "    return np.mean((act-prd)**2)"
   ]
  },
  {
   "cell_type": "code",
   "execution_count": 37,
   "id": "4893c897-e0b2-4e9d-a609-1354b701b7dd",
   "metadata": {},
   "outputs": [
    {
     "data": {
      "text/plain": [
       "292.12"
      ]
     },
     "execution_count": 37,
     "metadata": {},
     "output_type": "execute_result"
    }
   ],
   "source": [
    "mse(actual,predicted)"
   ]
  },
  {
   "cell_type": "markdown",
   "id": "ca9a112e-cc24-4ac4-a3a1-a86d04a1954f",
   "metadata": {},
   "source": [
    "# Working with Missing Values"
   ]
  },
  {
   "cell_type": "code",
   "execution_count": 40,
   "id": "d9e01de9-0660-453c-b3be-013a60704e62",
   "metadata": {},
   "outputs": [
    {
     "data": {
      "text/plain": [
       "array([ 1.,  2.,  3.,  4., nan,  6.])"
      ]
     },
     "execution_count": 40,
     "metadata": {},
     "output_type": "execute_result"
    }
   ],
   "source": [
    "# np.nan\n",
    "\n",
    "a = np.array([1,2,3,4,np.nan,6])\n",
    "a"
   ]
  },
  {
   "cell_type": "code",
   "execution_count": 44,
   "id": "8f064d20-ab2b-494d-bc06-e7b77a7cd4e0",
   "metadata": {},
   "outputs": [
    {
     "data": {
      "text/plain": [
       "array([1., 2., 3., 4., 6.])"
      ]
     },
     "execution_count": 44,
     "metadata": {},
     "output_type": "execute_result"
    }
   ],
   "source": [
    "# Removing the missing values by Boolean Indexing\n",
    "a[~np.isnan(a)]"
   ]
  },
  {
   "cell_type": "markdown",
   "id": "44a27a1d-05f5-4164-81d0-128e3ba742ef",
   "metadata": {},
   "source": [
    "# Plotting Graphs"
   ]
  },
  {
   "cell_type": "code",
   "execution_count": 47,
   "id": "3d1ae9e5-2447-453e-96ac-00b761ea0302",
   "metadata": {},
   "outputs": [],
   "source": [
    "import matplotlib.pyplot as plt"
   ]
  },
  {
   "cell_type": "code",
   "execution_count": 49,
   "id": "c913466b-d8a7-44f0-957f-62b56ebf0f4a",
   "metadata": {},
   "outputs": [
    {
     "data": {
      "text/plain": [
       "[<matplotlib.lines.Line2D at 0x26ec1d57320>]"
      ]
     },
     "execution_count": 49,
     "metadata": {},
     "output_type": "execute_result"
    },
    {
     "data": {
      "image/png": "[encoded data removed]",
      "text/plain": [
       "<Figure size 640x480 with 1 Axes>"
      ]
     },
     "metadata": {},
     "output_type": "display_data"
    }
   ],
   "source": [
    "# Plotting 2-d Graphs\n",
    "# y=x\n",
    "x = np.linspace(-10,10,100)\n",
    "y = x\n",
    "\n",
    "plt.plot(x,y)"
   ]
  },
  {
   "cell_type": "code",
   "execution_count": 51,
   "id": "accc034a-40e4-4abc-8141-d90a5646cf09",
   "metadata": {},
   "outputs": [
    {
     "data": {
      "text/plain": [
       "[<matplotlib.lines.Line2D at 0x26ec1cf7c80>]"
      ]
     },
     "execution_count": 51,
     "metadata": {},
     "output_type": "execute_result"
    },
    {
     "data": {
      "image/png": "[encoded data removed]",
      "text/plain": [
       "<Figure size 640x480 with 1 Axes>"
      ]
     },
     "metadata": {},
     "output_type": "display_data"
    }
   ],
   "source": [
    "# y  = x^2\n",
    "\n",
    "x = np.linspace(-50,50,40)\n",
    "y = x**2\n",
    "\n",
    "plt.plot(x,y)"
   ]
  },
  {
   "cell_type": "code",
   "execution_count": 57,
   "id": "99b636de-403e-4a4c-b3a6-9769bf40cdd1",
   "metadata": {},
   "outputs": [
    {
     "data": {
      "text/plain": [
       "[<matplotlib.lines.Line2D at 0x26ec204a7b0>]"
      ]
     },
     "execution_count": 57,
     "metadata": {},
     "output_type": "execute_result"
    },
    {
     "data": {
      "image/png": "[encoded data removed]",
      "text/plain": [
       "<Figure size 640x480 with 1 Axes>"
      ]
     },
     "metadata": {},
     "output_type": "display_data"
    }
   ],
   "source": [
    "# y = sin(x)\n",
    "x = np.linspace(-10,10,100)\n",
    "y = np.sin(x)\n",
    "\n",
    "plt.plot(x,y)"
   ]
  },
  {
   "cell_type": "code",
   "execution_count": 59,
   "id": "d38ecf1a-f1bb-449d-910d-d9532971436a",
   "metadata": {},
   "outputs": [
    {
     "name": "stderr",
     "output_type": "stream",
     "text": [
      "C:\\Users\\swaya\\AppData\\Local\\Temp\\ipykernel_28444\\3540258357.py:4: RuntimeWarning: invalid value encountered in log\n",
      "  y = x*(np.log(x))\n"
     ]
    },
    {
     "data": {
      "text/plain": [
       "[<matplotlib.lines.Line2D at 0x26ec20ce210>]"
      ]
     },
     "execution_count": 59,
     "metadata": {},
     "output_type": "execute_result"
    },
    {
     "data": {
      "image/png": "[encoded data removed]",
      "text/plain": [
       "<Figure size 640x480 with 1 Axes>"
      ]
     },
     "metadata": {},
     "output_type": "display_data"
    }
   ],
   "source": [
    "# y = xlog(x)\n",
    "\n",
    "x = np.linspace(-10,10,100)\n",
    "y = x*(np.log(x))\n",
    "\n",
    "plt.plot(x,y)"
   ]
  },
  {
   "cell_type": "markdown",
   "id": "0187301d-673e-4dd8-9f35-4981b5d61300",
   "metadata": {},
   "source": [
    "# Important Functions"
   ]
  },
  {
   "cell_type": "markdown",
   "id": "b1ad6cd8-b3d4-4a09-9b14-b0c1cbef6509",
   "metadata": {},
   "source": [
    "## np.sort"
   ]
  },
  {
   "cell_type": "code",
   "execution_count": 4,
   "id": "7e879ac8-6964-4bfd-8d30-d1a40f4e9da2",
   "metadata": {},
   "outputs": [
    {
     "data": {
      "text/plain": [
       "array([60, 29, 88, 88, 85, 78, 56, 97, 57, 95, 85, 61, 65, 61, 29])"
      ]
     },
     "execution_count": 4,
     "metadata": {},
     "output_type": "execute_result"
    }
   ],
   "source": [
    "# We use this function because it will return sorted numpy arrays\n",
    "import numpy as np\n",
    "\n",
    "a = np.random.randint(1,100,15)\n",
    "a"
   ]
  },
  {
   "cell_type": "code",
   "execution_count": 6,
   "id": "879d5376-de32-47bd-a6b2-34c1a096d951",
   "metadata": {},
   "outputs": [
    {
     "data": {
      "text/plain": [
       "array([29, 29, 56, 57, 60, 61, 61, 65, 78, 85, 85, 88, 88, 95, 97])"
      ]
     },
     "execution_count": 6,
     "metadata": {},
     "output_type": "execute_result"
    }
   ],
   "source": [
    "np.sort(a)"
   ]
  },
  {
   "cell_type": "code",
   "execution_count": 8,
   "id": "5a3c8bd8-2362-458a-93ed-84927a99d791",
   "metadata": {},
   "outputs": [
    {
     "data": {
      "text/plain": [
       "array([[53,  7, 34, 87, 81, 68],\n",
       "       [90, 76, 14,  3, 91, 36],\n",
       "       [62, 15, 16, 47, 52, 79],\n",
       "       [52, 54, 91, 84, 34, 42]])"
      ]
     },
     "execution_count": 8,
     "metadata": {},
     "output_type": "execute_result"
    }
   ],
   "source": [
    "b = np.random.randint(1,100,24).reshape(4,6)\n",
    "b\n"
   ]
  },
  {
   "cell_type": "code",
   "execution_count": 10,
   "id": "87bcea38-2711-4f40-a77b-396809852143",
   "metadata": {},
   "outputs": [
    {
     "data": {
      "text/plain": [
       "array([[ 7, 34, 53, 68, 81, 87],\n",
       "       [ 3, 14, 36, 76, 90, 91],\n",
       "       [15, 16, 47, 52, 62, 79],\n",
       "       [34, 42, 52, 54, 84, 91]])"
      ]
     },
     "execution_count": 10,
     "metadata": {},
     "output_type": "execute_result"
    }
   ],
   "source": [
    "np.sort (b,axis=1)\n",
    "# it will sort the array row wise"
   ]
  },
  {
   "cell_type": "code",
   "execution_count": 12,
   "id": "ea842cb9-429b-4c80-b6c3-1506c7b39986",
   "metadata": {},
   "outputs": [
    {
     "data": {
      "text/plain": [
       "array([[52,  7, 14,  3, 34, 36],\n",
       "       [53, 15, 16, 47, 52, 42],\n",
       "       [62, 54, 34, 84, 81, 68],\n",
       "       [90, 76, 91, 87, 91, 79]])"
      ]
     },
     "execution_count": 12,
     "metadata": {},
     "output_type": "execute_result"
    }
   ],
   "source": [
    "np.sort (b,axis=0)\n",
    "# it will sort the array column wise"
   ]
  },
  {
   "cell_type": "code",
   "execution_count": 16,
   "id": "50d43172-38da-4612-a656-069658d894c8",
   "metadata": {},
   "outputs": [
    {
     "data": {
      "text/plain": [
       "array([[ 7, 34, 53, 68, 81, 87],\n",
       "       [ 3, 14, 36, 76, 90, 91],\n",
       "       [15, 16, 47, 52, 62, 79],\n",
       "       [34, 42, 52, 54, 84, 91]])"
      ]
     },
     "execution_count": 16,
     "metadata": {},
     "output_type": "execute_result"
    }
   ],
   "source": [
    "np.sort(b)\n",
    "# by default it will short row wise"
   ]
  },
  {
   "cell_type": "code",
   "execution_count": 18,
   "id": "d7f6f03a-9135-4453-b8fc-bca0810ec83b",
   "metadata": {},
   "outputs": [
    {
     "data": {
      "text/plain": [
       "array([97, 95, 88, 88, 85, 85, 78, 65, 61, 61, 60, 57, 56, 29, 29])"
      ]
     },
     "execution_count": 18,
     "metadata": {},
     "output_type": "execute_result"
    }
   ],
   "source": [
    "# For descending order in sorting\n",
    "np.sort(a)[::-1]"
   ]
  },
  {
   "cell_type": "markdown",
   "id": "59511d77-42f9-43a3-a715-3a6ebd6987d3",
   "metadata": {},
   "source": [
    "## np.append"
   ]
  },
  {
   "cell_type": "code",
   "execution_count": 21,
   "id": "326c544a-10a7-43a1-8cb2-a071dae9a9b4",
   "metadata": {},
   "outputs": [
    {
     "data": {
      "text/plain": [
       "array([60, 29, 88, 88, 85, 78, 56, 97, 57, 95, 85, 61, 65, 61, 29])"
      ]
     },
     "execution_count": 21,
     "metadata": {},
     "output_type": "execute_result"
    }
   ],
   "source": [
    "a"
   ]
  },
  {
   "cell_type": "code",
   "execution_count": 23,
   "id": "62c2c007-8324-4335-aa8e-766c5b4e347c",
   "metadata": {},
   "outputs": [
    {
     "data": {
      "text/plain": [
       "array([ 60,  29,  88,  88,  85,  78,  56,  97,  57,  95,  85,  61,  65,\n",
       "        61,  29, 200])"
      ]
     },
     "execution_count": 23,
     "metadata": {},
     "output_type": "execute_result"
    }
   ],
   "source": [
    "np.append(a,200)\n",
    "# it will append 200 at the end of the array"
   ]
  },
  {
   "cell_type": "code",
   "execution_count": 25,
   "id": "4009be51-d5a7-48e1-8bd9-40012031836e",
   "metadata": {},
   "outputs": [
    {
     "data": {
      "text/plain": [
       "array([[53,  7, 34, 87, 81, 68],\n",
       "       [90, 76, 14,  3, 91, 36],\n",
       "       [62, 15, 16, 47, 52, 79],\n",
       "       [52, 54, 91, 84, 34, 42]])"
      ]
     },
     "execution_count": 25,
     "metadata": {},
     "output_type": "execute_result"
    }
   ],
   "source": [
    "b"
   ]
  },
  {
   "cell_type": "code",
   "execution_count": 27,
   "id": "9d4eddae-2b9a-47f2-aa9d-4ca48180a6e8",
   "metadata": {},
   "outputs": [
    {
     "data": {
      "text/plain": [
       "array([[53.,  7., 34., 87., 81., 68.,  1.],\n",
       "       [90., 76., 14.,  3., 91., 36.,  1.],\n",
       "       [62., 15., 16., 47., 52., 79.,  1.],\n",
       "       [52., 54., 91., 84., 34., 42.,  1.]])"
      ]
     },
     "execution_count": 27,
     "metadata": {},
     "output_type": "execute_result"
    }
   ],
   "source": [
    "# to append column at the end column of b having each value 1\n",
    "np.append(b,np.ones((b.shape[0],1)),axis=1)"
   ]
  },
  {
   "cell_type": "markdown",
   "id": "591b4b55-8df7-443b-98fa-4a59be950792",
   "metadata": {},
   "source": [
    "Here's what it does:\n",
    "\n",
    "* np.append is a function from the NumPy library in Python that appends values to the end of an array.\n",
    "\n",
    "* b is the array to which you want to append the new values.\n",
    "\n",
    "* np.ones((b.shape[0], 1)) creates a new array of shape (b.shape[0], 1) filled with ones. Here, b.shape[0] represents the number of rows in array b. So, this array has the same number of rows as b and one column, with all values being 1.\n",
    "\n",
    "* axis=1 specifies that the append operation should be done along columns (horizontally).\n",
    "\n",
    "In simpler terms, this code appends a new column of ones to the end of the array b."
   ]
  },
  {
   "cell_type": "markdown",
   "id": "472f2c8e-52e8-4195-ab01-6a8ce6fb05c9",
   "metadata": {},
   "source": [
    "## np.concatenate"
   ]
  },
  {
   "cell_type": "code",
   "execution_count": 34,
   "id": "ce71d4a0-0840-46a3-86b5-cf75b9beffd6",
   "metadata": {},
   "outputs": [
    {
     "name": "stdout",
     "output_type": "stream",
     "text": [
      "[[0 1 2]\n",
      " [3 4 5]]\n",
      "[[ 6  7  8]\n",
      " [ 9 10 11]]\n"
     ]
    }
   ],
   "source": [
    "# np.concatenate is used as a replacement of vstack and hstack\n",
    "c = np.arange(6).reshape(2,3)\n",
    "d = np.arange(6,12).reshape(2,3)\n",
    "\n",
    "print(c)\n",
    "print(d)"
   ]
  },
  {
   "cell_type": "code",
   "execution_count": 36,
   "id": "1dced3a6-9550-4454-8a23-ec797cf8c3ce",
   "metadata": {},
   "outputs": [
    {
     "data": {
      "text/plain": [
       "array([[ 0,  1,  2],\n",
       "       [ 3,  4,  5],\n",
       "       [ 6,  7,  8],\n",
       "       [ 9, 10, 11]])"
      ]
     },
     "execution_count": 36,
     "metadata": {},
     "output_type": "execute_result"
    }
   ],
   "source": [
    "np.concatenate((c,d))\n",
    "# by default axis = 0, i.e added row-wise."
   ]
  },
  {
   "cell_type": "code",
   "execution_count": 40,
   "id": "0dfa241e-be94-4f7c-8d40-1ad4ef1ccaa1",
   "metadata": {},
   "outputs": [
    {
     "data": {
      "text/plain": [
       "array([[ 0,  1,  2,  6,  7,  8],\n",
       "       [ 3,  4,  5,  9, 10, 11]])"
      ]
     },
     "execution_count": 40,
     "metadata": {},
     "output_type": "execute_result"
    }
   ],
   "source": [
    "np.concatenate((c,d),axis=1)\n",
    "# concatenating column-wise"
   ]
  },
  {
   "cell_type": "markdown",
   "id": "52b6467a-c4d0-4c97-9a6f-62432aaf4cea",
   "metadata": {},
   "source": [
    "## np.unique"
   ]
  },
  {
   "cell_type": "markdown",
   "id": "db15af83-715e-4573-bfed-eab2161d0ea1",
   "metadata": {},
   "source": [
    "we can get unique values from an array given as parameter in np.unique() method."
   ]
  },
  {
   "cell_type": "code",
   "execution_count": 44,
   "id": "a3e3cda2-88a4-44f1-9e7c-7b7f647300c0",
   "metadata": {},
   "outputs": [
    {
     "data": {
      "text/plain": [
       "array([2, 4, 3, 4, 4, 4, 1, 1, 2, 4, 4, 1])"
      ]
     },
     "execution_count": 44,
     "metadata": {},
     "output_type": "execute_result"
    }
   ],
   "source": [
    "e = np.random.randint(1,5,12)\n",
    "e"
   ]
  },
  {
   "cell_type": "code",
   "execution_count": 46,
   "id": "6d9ef9e1-d120-466e-8e46-5b465d35f0c8",
   "metadata": {},
   "outputs": [
    {
     "data": {
      "text/plain": [
       "array([1, 2, 3, 4])"
      ]
     },
     "execution_count": 46,
     "metadata": {},
     "output_type": "execute_result"
    }
   ],
   "source": [
    "np.unique(e)"
   ]
  },
  {
   "cell_type": "markdown",
   "id": "4f9f891c-c395-4269-8169-144b069b47d3",
   "metadata": {},
   "source": [
    "## np.expand_dims"
   ]
  },
  {
   "cell_type": "markdown",
   "id": "97d4ce05-0232-488f-a772-08bd0db415fe",
   "metadata": {},
   "source": [
    "we expand the dimension of the array"
   ]
  },
  {
   "cell_type": "code",
   "execution_count": 52,
   "id": "fee92e08-8d2c-43ab-8951-beca7fdbb2d0",
   "metadata": {},
   "outputs": [
    {
     "data": {
      "text/plain": [
       "array([[60, 29, 88, 88, 85, 78, 56, 97, 57, 95, 85, 61, 65, 61, 29]])"
      ]
     },
     "execution_count": 52,
     "metadata": {},
     "output_type": "execute_result"
    }
   ],
   "source": [
    "np.expand_dims(a,axis=0)"
   ]
  },
  {
   "cell_type": "code",
   "execution_count": 56,
   "id": "4f714deb-731a-4863-bd61-361016a4074f",
   "metadata": {},
   "outputs": [
    {
     "data": {
      "text/plain": [
       "(15,)"
      ]
     },
     "execution_count": 56,
     "metadata": {},
     "output_type": "execute_result"
    }
   ],
   "source": [
    "a.shape"
   ]
  },
  {
   "cell_type": "code",
   "execution_count": 58,
   "id": "677c82cf-425f-444f-b974-278d6d2e3daa",
   "metadata": {},
   "outputs": [
    {
     "data": {
      "text/plain": [
       "array([[60],\n",
       "       [29],\n",
       "       [88],\n",
       "       [88],\n",
       "       [85],\n",
       "       [78],\n",
       "       [56],\n",
       "       [97],\n",
       "       [57],\n",
       "       [95],\n",
       "       [85],\n",
       "       [61],\n",
       "       [65],\n",
       "       [61],\n",
       "       [29]])"
      ]
     },
     "execution_count": 58,
     "metadata": {},
     "output_type": "execute_result"
    }
   ],
   "source": [
    "np.expand_dims(a,axis=1)"
   ]
  },
  {
   "cell_type": "code",
   "execution_count": 60,
   "id": "f282f585-dcf0-41d8-9bb1-22482e6af886",
   "metadata": {},
   "outputs": [
    {
     "data": {
      "text/plain": [
       "(15,)"
      ]
     },
     "execution_count": 60,
     "metadata": {},
     "output_type": "execute_result"
    }
   ],
   "source": [
    "a.shape"
   ]
  },
  {
   "cell_type": "markdown",
   "id": "d045a202-87cf-484a-86ab-624db40c3ef5",
   "metadata": {},
   "source": [
    "## np.where"
   ]
  },
  {
   "cell_type": "markdown",
   "id": "fced1d03-1645-49f5-914c-90755c4bfb7c",
   "metadata": {},
   "source": [
    "it will returns the indices of elements in an input array  where the given condiions are satisfied."
   ]
  },
  {
   "cell_type": "code",
   "execution_count": 67,
   "id": "cf15bb92-0903-4ef6-a3de-546fbc3d0c96",
   "metadata": {},
   "outputs": [
    {
     "data": {
      "text/plain": [
       "(array([ 0,  2,  3,  4,  5,  6,  7,  8,  9, 10, 11, 12, 13], dtype=int64),)"
      ]
     },
     "execution_count": 67,
     "metadata": {},
     "output_type": "execute_result"
    }
   ],
   "source": [
    "# find all the indices whose value are greater than 50\n",
    "np.where(a>50)"
   ]
  },
  {
   "cell_type": "code",
   "execution_count": 73,
   "id": "91c25533-1437-486e-ae1f-0bdf8b9d8a7f",
   "metadata": {},
   "outputs": [
    {
     "data": {
      "text/plain": [
       "array([ 0, 29,  0,  0,  0,  0,  0,  0,  0,  0,  0,  0,  0,  0, 29])"
      ]
     },
     "execution_count": 73,
     "metadata": {},
     "output_type": "execute_result"
    }
   ],
   "source": [
    "# replace all the vlaues with zero\n",
    "a[np.where(a>50)]=0\n",
    "a"
   ]
  },
  {
   "cell_type": "code",
   "execution_count": 75,
   "id": "eee050f3-c85a-428f-964e-2edf17055100",
   "metadata": {},
   "outputs": [
    {
     "data": {
      "text/plain": [
       "array([2, 4, 3, 4, 4, 4, 1, 1, 2, 4, 4, 1])"
      ]
     },
     "execution_count": 75,
     "metadata": {},
     "output_type": "execute_result"
    }
   ],
   "source": [
    "e"
   ]
  },
  {
   "cell_type": "code",
   "execution_count": 79,
   "id": "17ae98fc-1f81-47f3-b8fe-d73fc0dc042f",
   "metadata": {},
   "outputs": [
    {
     "data": {
      "text/plain": [
       "array([0, 0, 3, 0, 0, 0, 1, 1, 0, 0, 0, 1])"
      ]
     },
     "execution_count": 79,
     "metadata": {},
     "output_type": "execute_result"
    }
   ],
   "source": [
    "# replace even numbers with 0\n",
    "e[np.where(e%2==0)]=0\n",
    "e"
   ]
  },
  {
   "cell_type": "markdown",
   "id": "de74f361-41a8-468e-bb5d-021ff846238d",
   "metadata": {},
   "source": [
    "## np.argmax\n",
    "* it returns the indices of the max element of the array in the particular axis"
   ]
  },
  {
   "cell_type": "code",
   "execution_count": 87,
   "id": "2f082381-3c26-4cee-9d49-4a0cf22a71f7",
   "metadata": {},
   "outputs": [
    {
     "data": {
      "text/plain": [
       "array([14,  6,  7,  7, 18, 12,  1, 16,  3,  8,  4, 19, 14, 19,  3,  6, 15,\n",
       "        1, 14, 15,  3,  7, 14,  9, 10,  9, 13,  9,  3, 16])"
      ]
     },
     "execution_count": 87,
     "metadata": {},
     "output_type": "execute_result"
    }
   ],
   "source": [
    "a = np.random.randint(1,20,30)\n",
    "a"
   ]
  },
  {
   "cell_type": "code",
   "execution_count": 89,
   "id": "2958dda1-6517-49b5-bed8-baf3fe83bfe0",
   "metadata": {},
   "outputs": [
    {
     "data": {
      "text/plain": [
       "11"
      ]
     },
     "execution_count": 89,
     "metadata": {},
     "output_type": "execute_result"
    }
   ],
   "source": [
    "np.argmax(a)"
   ]
  },
  {
   "cell_type": "code",
   "execution_count": 91,
   "id": "44f18eef-e07e-4dd4-a716-c90af8e0d3d8",
   "metadata": {},
   "outputs": [
    {
     "data": {
      "text/plain": [
       "array([[53,  7, 34, 87, 81, 68],\n",
       "       [90, 76, 14,  3, 91, 36],\n",
       "       [62, 15, 16, 47, 52, 79],\n",
       "       [52, 54, 91, 84, 34, 42]])"
      ]
     },
     "execution_count": 91,
     "metadata": {},
     "output_type": "execute_result"
    }
   ],
   "source": [
    "b"
   ]
  },
  {
   "cell_type": "code",
   "execution_count": 93,
   "id": "8c2184c2-324a-4d95-a8e1-49ba6bc82a5c",
   "metadata": {},
   "outputs": [
    {
     "data": {
      "text/plain": [
       "10"
      ]
     },
     "execution_count": 93,
     "metadata": {},
     "output_type": "execute_result"
    }
   ],
   "source": [
    "np.argmax(b)"
   ]
  },
  {
   "cell_type": "code",
   "execution_count": 95,
   "id": "5f91166c-4f34-40c4-9c4b-8f405eee9ab5",
   "metadata": {},
   "outputs": [
    {
     "data": {
      "text/plain": [
       "array([3, 4, 5, 2], dtype=int64)"
      ]
     },
     "execution_count": 95,
     "metadata": {},
     "output_type": "execute_result"
    }
   ],
   "source": [
    "np.argmax(b,axis=1)"
   ]
  },
  {
   "cell_type": "code",
   "execution_count": 97,
   "id": "45b5feea-2d4b-4551-8ab1-7e0dc2f2554b",
   "metadata": {},
   "outputs": [
    {
     "data": {
      "text/plain": [
       "array([1, 1, 3, 0, 1, 2], dtype=int64)"
      ]
     },
     "execution_count": 97,
     "metadata": {},
     "output_type": "execute_result"
    }
   ],
   "source": [
    "np.argmax(b,axis=0)"
   ]
  },
  {
   "cell_type": "markdown",
   "id": "b5d1daf2-062f-4be0-ba92-17aa7cc9b699",
   "metadata": {},
   "source": [
    "## np.cumsum"
   ]
  },
  {
   "cell_type": "markdown",
   "id": "e0457e0a-280f-41df-a471-35d3d63f7fce",
   "metadata": {},
   "source": [
    "* It will do commulative sum of the previous array entries"
   ]
  },
  {
   "cell_type": "code",
   "execution_count": 104,
   "id": "9803aa0c-9a0a-46f6-87d3-bd12022228ea",
   "metadata": {},
   "outputs": [
    {
     "data": {
      "text/plain": [
       "array([[ 53,   7,  34,  87,  81,  68],\n",
       "       [143,  83,  48,  90, 172, 104],\n",
       "       [205,  98,  64, 137, 224, 183],\n",
       "       [257, 152, 155, 221, 258, 225]])"
      ]
     },
     "execution_count": 104,
     "metadata": {},
     "output_type": "execute_result"
    }
   ],
   "source": [
    "np.cumsum(b,axis=0)"
   ]
  },
  {
   "cell_type": "code",
   "execution_count": 106,
   "id": "b0851596-af5a-4041-ae35-49e43823b081",
   "metadata": {},
   "outputs": [
    {
     "data": {
      "text/plain": [
       "array([[ 53,  60,  94, 181, 262, 330],\n",
       "       [ 90, 166, 180, 183, 274, 310],\n",
       "       [ 62,  77,  93, 140, 192, 271],\n",
       "       [ 52, 106, 197, 281, 315, 357]])"
      ]
     },
     "execution_count": 106,
     "metadata": {},
     "output_type": "execute_result"
    }
   ],
   "source": [
    "np.cumsum(b,axis=1)"
   ]
  },
  {
   "cell_type": "markdown",
   "id": "b19619cf-c1cd-4328-8f0b-28f5e8b42d55",
   "metadata": {},
   "source": [
    "## np.prod"
   ]
  },
  {
   "cell_type": "markdown",
   "id": "217191d1-2621-48cc-8204-6a7fa77d48e4",
   "metadata": {},
   "source": [
    "* It will do the commulative product of the previous array"
   ]
  },
  {
   "cell_type": "code",
   "execution_count": 117,
   "id": "deef6d6c-980a-4a4e-9513-37c3078d9f95",
   "metadata": {},
   "outputs": [
    {
     "data": {
      "text/plain": [
       "array([[      53,        7,       34,       87,       81,       68],\n",
       "       [    4770,      532,      476,      261,     7371,     2448],\n",
       "       [  295740,     7980,     7616,    12267,   383292,   193392],\n",
       "       [15378480,   430920,   693056,  1030428, 13031928,  8122464]])"
      ]
     },
     "execution_count": 117,
     "metadata": {},
     "output_type": "execute_result"
    }
   ],
   "source": [
    "np.cumprod(b,axis=0)"
   ]
  },
  {
   "cell_type": "code",
   "execution_count": 119,
   "id": "1d676a19-0bfb-4986-9c5b-e8733a572474",
   "metadata": {},
   "outputs": [
    {
     "data": {
      "text/plain": [
       "array([[         53,         371,       12614,     1097418,    88890858,\n",
       "         1749611048],\n",
       "       [         90,        6840,       95760,      287280,    26142480,\n",
       "          941129280],\n",
       "       [         62,         930,       14880,      699360,    36366720,\n",
       "        -1421996416],\n",
       "       [         52,        2808,      255528,    21464352,   729787968,\n",
       "          586323584]])"
      ]
     },
     "execution_count": 119,
     "metadata": {},
     "output_type": "execute_result"
    }
   ],
   "source": [
    "np.cumprod(b,axis=1)"
   ]
  },
  {
   "cell_type": "markdown",
   "id": "afadf4e9-9c58-4bf9-b683-daafaf5be7ff",
   "metadata": {},
   "source": [
    "## np.percentile"
   ]
  },
  {
   "cell_type": "markdown",
   "id": "6b873f74-9853-4918-8f4e-b65fdc665cfa",
   "metadata": {},
   "source": [
    "* It will compute the nth percentile of the given data (array elements) along the specified axis.\n"
   ]
  },
  {
   "cell_type": "code",
   "execution_count": 122,
   "id": "456f5a73-91b0-488f-a116-35436479ee54",
   "metadata": {},
   "outputs": [
    {
     "data": {
      "text/plain": [
       "array([14,  6,  7,  7, 18, 12,  1, 16,  3,  8,  4, 19, 14, 19,  3,  6, 15,\n",
       "        1, 14, 15,  3,  7, 14,  9, 10,  9, 13,  9,  3, 16])"
      ]
     },
     "execution_count": 122,
     "metadata": {},
     "output_type": "execute_result"
    }
   ],
   "source": [
    "a"
   ]
  },
  {
   "cell_type": "code",
   "execution_count": 126,
   "id": "a2dc52c3-8805-4c16-b145-db450e581f34",
   "metadata": {},
   "outputs": [
    {
     "data": {
      "text/plain": [
       "3.51"
      ]
     },
     "execution_count": 126,
     "metadata": {},
     "output_type": "execute_result"
    }
   ],
   "source": [
    "np.percentile(a,np.max(a))\n"
   ]
  },
  {
   "cell_type": "markdown",
   "id": "e555e701-57c9-4f0c-9c6d-b734653ee15c",
   "metadata": {},
   "source": [
    "## np.histogram"
   ]
  },
  {
   "cell_type": "code",
   "execution_count": 131,
   "id": "dd67368e-7308-4c23-816e-91cda5296657",
   "metadata": {},
   "outputs": [
    {
     "data": {
      "text/plain": [
       "(array([6, 6, 5, 8, 5], dtype=int64), array([ 0,  4,  8, 12, 16, 20]))"
      ]
     },
     "execution_count": 131,
     "metadata": {},
     "output_type": "execute_result"
    }
   ],
   "source": [
    "np.histogram(a,bins=[0,4,8,12,16,20])"
   ]
  },
  {
   "cell_type": "markdown",
   "id": "349a9b07-abf2-46eb-9b97-de614f74d1e2",
   "metadata": {},
   "source": [
    "## np.corrcoef"
   ]
  },
  {
   "cell_type": "markdown",
   "id": "066db544-ded7-499a-8665-a6bff093dee0",
   "metadata": {},
   "source": [
    "* Returns Pearson product-moment correlation coefficients."
   ]
  },
  {
   "cell_type": "code",
   "execution_count": 137,
   "id": "96ce069b-213d-477a-8437-fbf1a42e5efa",
   "metadata": {},
   "outputs": [
    {
     "data": {
      "text/plain": [
       "array([[1.        , 0.87363025],\n",
       "       [0.87363025, 1.        ]])"
      ]
     },
     "execution_count": 137,
     "metadata": {},
     "output_type": "execute_result"
    }
   ],
   "source": [
    "salary = np.array([200,400,500,800,600,700])\n",
    "experience = np.array([5,7,8,11,12,14])\n",
    "\n",
    "np.corrcoef(salary,experience)"
   ]
  },
  {
   "cell_type": "markdown",
   "id": "bc4e7fd8-aef1-40ca-9133-38b334fc5ddd",
   "metadata": {},
   "source": [
    "## np.isin"
   ]
  },
  {
   "cell_type": "markdown",
   "id": "43e3a910-18f4-4c48-9a29-a945967a1ad6",
   "metadata": {},
   "source": [
    "* with  this method, we can see that one array having values are checked in a diffrent numpy array having different elements with diffrent sizes."
   ]
  },
  {
   "cell_type": "code",
   "execution_count": 14,
   "id": "1606e6b3-be4b-455e-8059-88bd3b1a33a5",
   "metadata": {},
   "outputs": [
    {
     "data": {
      "text/plain": [
       "array([ 10.,  20.,  30.,  40.,  50.,  60.,  70.,  80.,  90., 100.])"
      ]
     },
     "execution_count": 14,
     "metadata": {},
     "output_type": "execute_result"
    }
   ],
   "source": [
    "import numpy as np\n",
    "i = np.linspace(10,100,10)\n",
    "\n",
    "i"
   ]
  },
  {
   "cell_type": "code",
   "execution_count": 16,
   "id": "32c0ccb2-2a10-42e0-bde8-a641966a47b3",
   "metadata": {},
   "outputs": [
    {
     "data": {
      "text/plain": [
       "[10, 50, 60, 55]"
      ]
     },
     "execution_count": 16,
     "metadata": {},
     "output_type": "execute_result"
    }
   ],
   "source": [
    "item = [10,50,60,55]\n",
    "item"
   ]
  },
  {
   "cell_type": "code",
   "execution_count": 18,
   "id": "475ffa41-f582-44ee-ad1e-6b95637f28ca",
   "metadata": {},
   "outputs": [
    {
     "data": {
      "text/plain": [
       "array([ True, False, False, False,  True,  True, False, False, False,\n",
       "       False])"
      ]
     },
     "execution_count": 18,
     "metadata": {},
     "output_type": "execute_result"
    }
   ],
   "source": [
    "np.isin(i,item)"
   ]
  },
  {
   "cell_type": "markdown",
   "id": "51482f65-e210-4af5-83b9-94fbea95528c",
   "metadata": {},
   "source": [
    "## np.flip"
   ]
  },
  {
   "cell_type": "markdown",
   "id": "3636b63a-810d-41a9-ad77-bd821bfa8e3b",
   "metadata": {},
   "source": [
    "* it reverses the order of array elements along the specified axis, preserving the shape of array <br>\n",
    "* it just create the mirror image"
   ]
  },
  {
   "cell_type": "code",
   "execution_count": 24,
   "id": "d365806c-1142-4d21-897b-449ec6abb907",
   "metadata": {},
   "outputs": [
    {
     "data": {
      "text/plain": [
       "array([ 10.,  20.,  30.,  40.,  50.,  60.,  70.,  80.,  90., 100.])"
      ]
     },
     "execution_count": 24,
     "metadata": {},
     "output_type": "execute_result"
    }
   ],
   "source": [
    "i"
   ]
  },
  {
   "cell_type": "code",
   "execution_count": 26,
   "id": "0a4623bf-8f03-4a7d-bf83-56449338744f",
   "metadata": {},
   "outputs": [
    {
     "data": {
      "text/plain": [
       "array([100.,  90.,  80.,  70.,  60.,  50.,  40.,  30.,  20.,  10.])"
      ]
     },
     "execution_count": 26,
     "metadata": {},
     "output_type": "execute_result"
    }
   ],
   "source": [
    "np.flip(i)"
   ]
  },
  {
   "cell_type": "code",
   "execution_count": 31,
   "id": "79ed2905-9e96-4746-8f34-49928b0052e7",
   "metadata": {},
   "outputs": [
    {
     "data": {
      "text/plain": [
       "array([[21, 77, 90, 58],\n",
       "       [16, 23, 23, 66],\n",
       "       [24,  1, 59,  7],\n",
       "       [39, 67, 89,  3],\n",
       "       [13, 22, 83, 85],\n",
       "       [69, 37, 88, 69]])"
      ]
     },
     "execution_count": 31,
     "metadata": {},
     "output_type": "execute_result"
    }
   ],
   "source": [
    "b = np.random.randint(1,100,24).reshape(6,4)\n",
    "b"
   ]
  },
  {
   "cell_type": "code",
   "execution_count": 33,
   "id": "82c04238-61c0-4f8c-b0b0-e7aa337ea556",
   "metadata": {},
   "outputs": [
    {
     "data": {
      "text/plain": [
       "array([[69, 88, 37, 69],\n",
       "       [85, 83, 22, 13],\n",
       "       [ 3, 89, 67, 39],\n",
       "       [ 7, 59,  1, 24],\n",
       "       [66, 23, 23, 16],\n",
       "       [58, 90, 77, 21]])"
      ]
     },
     "execution_count": 33,
     "metadata": {},
     "output_type": "execute_result"
    }
   ],
   "source": [
    "np.flip(b)"
   ]
  },
  {
   "cell_type": "code",
   "execution_count": 35,
   "id": "dd8f3be8-def9-4b42-8687-dabc5edc5a6a",
   "metadata": {},
   "outputs": [
    {
     "data": {
      "text/plain": [
       "array([[69, 37, 88, 69],\n",
       "       [13, 22, 83, 85],\n",
       "       [39, 67, 89,  3],\n",
       "       [24,  1, 59,  7],\n",
       "       [16, 23, 23, 66],\n",
       "       [21, 77, 90, 58]])"
      ]
     },
     "execution_count": 35,
     "metadata": {},
     "output_type": "execute_result"
    }
   ],
   "source": [
    "np.flip(b,axis=0)"
   ]
  },
  {
   "cell_type": "code",
   "execution_count": 37,
   "id": "42b44bfe-4f21-45da-8bf7-8a84cc97e51f",
   "metadata": {},
   "outputs": [
    {
     "data": {
      "text/plain": [
       "array([[58, 90, 77, 21],\n",
       "       [66, 23, 23, 16],\n",
       "       [ 7, 59,  1, 24],\n",
       "       [ 3, 89, 67, 39],\n",
       "       [85, 83, 22, 13],\n",
       "       [69, 88, 37, 69]])"
      ]
     },
     "execution_count": 37,
     "metadata": {},
     "output_type": "execute_result"
    }
   ],
   "source": [
    "np.flip(b,axis=1)"
   ]
  },
  {
   "cell_type": "markdown",
   "id": "27903e98-08c6-4afe-b5b2-e70290a08a98",
   "metadata": {},
   "source": [
    "## np.put"
   ]
  },
  {
   "cell_type": "markdown",
   "id": "640c0259-551e-41c0-8594-11d6a441f1ce",
   "metadata": {},
   "source": [
    "* it replaces specific elements of an array with the given values of p_array. Array indexed works on flattened array."
   ]
  },
  {
   "cell_type": "code",
   "execution_count": 41,
   "id": "bd07ce73-e298-4176-859f-71bb5e26b9fd",
   "metadata": {},
   "outputs": [
    {
     "data": {
      "text/plain": [
       "array([ 10.,  20.,  30.,  40.,  50.,  60.,  70.,  80.,  90., 100.])"
      ]
     },
     "execution_count": 41,
     "metadata": {},
     "output_type": "execute_result"
    }
   ],
   "source": [
    "i"
   ]
  },
  {
   "cell_type": "code",
   "execution_count": 43,
   "id": "723cc885-9ef0-4717-9f27-9c3e67acea58",
   "metadata": {},
   "outputs": [],
   "source": [
    "np.put(i,[0,1],[110,530])"
   ]
  },
  {
   "cell_type": "code",
   "execution_count": 45,
   "id": "14b47c23-d2bf-480b-b526-d3605653b86d",
   "metadata": {},
   "outputs": [
    {
     "data": {
      "text/plain": [
       "array([110., 530.,  30.,  40.,  50.,  60.,  70.,  80.,  90., 100.])"
      ]
     },
     "execution_count": 45,
     "metadata": {},
     "output_type": "execute_result"
    }
   ],
   "source": [
    "i"
   ]
  },
  {
   "cell_type": "markdown",
   "id": "48197c7e-6e6e-470c-920b-9681f238a318",
   "metadata": {},
   "source": [
    "## np.delete"
   ]
  },
  {
   "cell_type": "markdown",
   "id": "6b245381-8bfe-4b41-b85d-f563cc5568e4",
   "metadata": {},
   "source": [
    "* it returns a new array with the deletion of sub-arrays along with the mentioned axis."
   ]
  },
  {
   "cell_type": "code",
   "execution_count": 49,
   "id": "ab00b0b5-1106-4c81-8f57-8e27cfbc34c7",
   "metadata": {},
   "outputs": [
    {
     "data": {
      "text/plain": [
       "array([110., 530.,  30.,  40.,  50.,  60.,  70.,  80.,  90., 100.])"
      ]
     },
     "execution_count": 49,
     "metadata": {},
     "output_type": "execute_result"
    }
   ],
   "source": [
    "i"
   ]
  },
  {
   "cell_type": "code",
   "execution_count": 51,
   "id": "f5a8b0c0-89e6-4697-96fb-fd4bec070aa3",
   "metadata": {},
   "outputs": [
    {
     "data": {
      "text/plain": [
       "array([530.,  30.,  40.,  50.,  60.,  70.,  80.,  90., 100.])"
      ]
     },
     "execution_count": 51,
     "metadata": {},
     "output_type": "execute_result"
    }
   ],
   "source": [
    "np.delete(i,0)"
   ]
  },
  {
   "cell_type": "code",
   "execution_count": 55,
   "id": "3d105485-4d60-4604-a248-ff5ac5c89c8a",
   "metadata": {},
   "outputs": [
    {
     "data": {
      "text/plain": [
       "array([530.,  40.,  60.,  70.,  80.,  90., 100.])"
      ]
     },
     "execution_count": 55,
     "metadata": {},
     "output_type": "execute_result"
    }
   ],
   "source": [
    "np.delete(i,[0,2,4])"
   ]
  },
  {
   "cell_type": "code",
   "execution_count": 57,
   "id": "b4b52cc6-3548-4ee7-80dc-42995049f1b9",
   "metadata": {},
   "outputs": [
    {
     "data": {
      "text/plain": [
       "array([110., 530.,  30.,  40.,  50.,  60.,  70.,  80.,  90., 100.])"
      ]
     },
     "execution_count": 57,
     "metadata": {},
     "output_type": "execute_result"
    }
   ],
   "source": [
    "i"
   ]
  },
  {
   "cell_type": "markdown",
   "id": "e2ea1fda-afff-43a9-9c1e-09253985924b",
   "metadata": {},
   "source": [
    "* It doesn't change the  values of the array, it is just an temproary thing."
   ]
  },
  {
   "cell_type": "markdown",
   "id": "d8e919df-8b9d-4783-8820-0f3484c938b6",
   "metadata": {},
   "source": [
    "## set Functions\n",
    "* np.union1d\n",
    "* np.intersect1d\n",
    "* np.setdiff1d\n",
    "* np.setxor1d\n",
    "* np.in1d"
   ]
  },
  {
   "cell_type": "code",
   "execution_count": 61,
   "id": "927530a4-9d14-4b7b-acbf-1c0b2ba14ba5",
   "metadata": {},
   "outputs": [],
   "source": [
    "m = np.array([1,2,3,4,5])\n",
    "n = np.array([3,4,5,6,7])"
   ]
  },
  {
   "cell_type": "code",
   "execution_count": 63,
   "id": "94fddc2c-4e5e-4def-b976-1ead5ee4cb71",
   "metadata": {},
   "outputs": [
    {
     "data": {
      "text/plain": [
       "array([1, 2, 3, 4, 5, 6, 7])"
      ]
     },
     "execution_count": 63,
     "metadata": {},
     "output_type": "execute_result"
    }
   ],
   "source": [
    "np.union1d(m,n)"
   ]
  },
  {
   "cell_type": "code",
   "execution_count": 65,
   "id": "a3415328-ccc7-4513-a58c-f097486bf58e",
   "metadata": {},
   "outputs": [
    {
     "data": {
      "text/plain": [
       "array([3, 4, 5])"
      ]
     },
     "execution_count": 65,
     "metadata": {},
     "output_type": "execute_result"
    }
   ],
   "source": [
    "np.intersect1d(m,n)"
   ]
  },
  {
   "cell_type": "code",
   "execution_count": 69,
   "id": "305b2642-fb7c-490b-a177-905dbb6d3a89",
   "metadata": {},
   "outputs": [
    {
     "data": {
      "text/plain": [
       "array([1, 2])"
      ]
     },
     "execution_count": 69,
     "metadata": {},
     "output_type": "execute_result"
    }
   ],
   "source": [
    "np.setdiff1d(m,n)"
   ]
  },
  {
   "cell_type": "code",
   "execution_count": 71,
   "id": "8b7e75e2-4629-4df7-95ef-b440ede5373f",
   "metadata": {},
   "outputs": [
    {
     "data": {
      "text/plain": [
       "array([1, 2, 6, 7])"
      ]
     },
     "execution_count": 71,
     "metadata": {},
     "output_type": "execute_result"
    }
   ],
   "source": [
    "np.setxor1d(m,n)"
   ]
  },
  {
   "cell_type": "code",
   "execution_count": 73,
   "id": "cff093c0-b2da-460f-bc27-67f47845730f",
   "metadata": {},
   "outputs": [
    {
     "data": {
      "text/plain": [
       "array([False, False,  True,  True,  True])"
      ]
     },
     "execution_count": 73,
     "metadata": {},
     "output_type": "execute_result"
    }
   ],
   "source": [
    "np.in1d(m,n)"
   ]
  },
  {
   "cell_type": "markdown",
   "id": "06147ab2-731a-43b5-8f98-997b0d2f9e62",
   "metadata": {},
   "source": [
    "np.unique():\n",
    "\n",
    "Use: Finds the unique elements of an array.\n",
    "\n",
    "Example: np.unique([1, 2, 2, 3, 4, 4]) returns [1, 2, 3, 4].\n",
    "\n",
    "np.intersect1d():\n",
    "\n",
    "Use: Finds the intersection of two arrays (common elements).\n",
    "\n",
    "Example: np.intersect1d([1, 2, 3], [2, 3, 4]) returns [2, 3].\n",
    "\n",
    "np.union1d():\n",
    "\n",
    "Use: Finds the union of two arrays (all unique elements from both arrays).\n",
    "\n",
    "Example: np.union1d([1, 2, 3], [2, 3, 4]) returns [1, 2, 3, 4].\n",
    "\n",
    "np.setdiff1d():\n",
    "\n",
    "Use: Finds the difference between two arrays (elements in the first array but not in the second).\n",
    "\n",
    "Example: np.setdiff1d([1, 2, 3], [2, 3, 4]) returns [1].\n",
    "\n",
    "np.setxor1d():\n",
    "\n",
    "Use: Finds the symmetric difference between two arrays (elements in either of the arrays but not in both).\n",
    "\n",
    "Example: np.setxor1d([1, 2, 3], [2, 3, 4]) returns [1, 4].\n",
    "\n",
    "np.in1d():\n",
    "\n",
    "Use: Tests whether each element of an array is also present in another array.\n",
    "\n",
    "Example: np.in1d([1, 2, 3], [2, 3, 4]) returns [False, True, True].\n",
    "\n",
    "np.isin():\n",
    "\n",
    "Use: Similar to np.in1d(), but can handle multiple dimensions.\n",
    "\n",
    "Example: np.isin([[1, 2], [3, 4]], [2, 3]) returns [[False, True], [True, False]]."
   ]
  },
  {
   "cell_type": "markdown",
   "id": "fd77ec44-27c2-4b67-8be1-1c9ecf1ffa2c",
   "metadata": {},
   "source": [
    "## np.clip"
   ]
  },
  {
   "cell_type": "markdown",
   "id": "bab46753-96ec-46e3-9743-1eddd7f16a5e",
   "metadata": {},
   "source": [
    "* It is used to clip (limit) the values in the array."
   ]
  },
  {
   "cell_type": "code",
   "execution_count": 80,
   "id": "67f6c37e-309c-4d00-b162-e76782558bad",
   "metadata": {},
   "outputs": [
    {
     "data": {
      "text/plain": [
       "array([110., 530.,  30.,  40.,  50.,  60.,  70.,  80.,  90., 100.])"
      ]
     },
     "execution_count": 80,
     "metadata": {},
     "output_type": "execute_result"
    }
   ],
   "source": [
    "i"
   ]
  },
  {
   "cell_type": "code",
   "execution_count": 84,
   "id": "fce808c9-deb7-4400-b0ce-4131e0961436",
   "metadata": {},
   "outputs": [
    {
     "data": {
      "text/plain": [
       "array([110., 110.,  50.,  50.,  50.,  60.,  70.,  80.,  90., 100.])"
      ]
     },
     "execution_count": 84,
     "metadata": {},
     "output_type": "execute_result"
    }
   ],
   "source": [
    "np.clip(i,a_min=50,a_max=110)"
   ]
  },
  {
   "cell_type": "code",
   "execution_count": null,
   "id": "ff6081e9-68df-42f6-8444-656bab1cee7d",
   "metadata": {},
   "outputs": [],
   "source": []
  }
 ],
 "metadata": {
  "kernelspec": {
   "display_name": "Python 3 (ipykernel)",
   "language": "python",
   "name": "python3"
  },
  "language_info": {
   "codemirror_mode": {
    "name": "ipython",
    "version": 3
   },
   "file_extension": ".py",
   "mimetype": "text/x-python",
   "name": "python",
   "nbconvert_exporter": "python",
   "pygments_lexer": "ipython3",
   "version": "3.12.4"
  }
 },
 "nbformat": 4,
 "nbformat_minor": 5
}
